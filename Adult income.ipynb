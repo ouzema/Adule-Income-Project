{
 "cells": [
  {
   "cell_type": "code",
   "execution_count": 1,
   "id": "e2cc20b0",
   "metadata": {
    "execution": {
     "iopub.execute_input": "2023-05-07T14:02:59.630316Z",
     "iopub.status.busy": "2023-05-07T14:02:59.629807Z",
     "iopub.status.idle": "2023-05-07T14:03:01.197040Z",
     "shell.execute_reply": "2023-05-07T14:03:01.195947Z"
    },
    "papermill": {
     "duration": 1.593716,
     "end_time": "2023-05-07T14:03:01.200259",
     "exception": false,
     "start_time": "2023-05-07T14:02:59.606543",
     "status": "completed"
    },
    "tags": []
   },
   "outputs": [],
   "source": [
    "import pandas as pd\n",
    "import numpy as np\n",
    "from sklearn.linear_model import LogisticRegression\n",
    "from sklearn.ensemble import RandomForestClassifier\n",
    "from sklearn.naive_bayes import GaussianNB\n",
    "from sklearn.preprocessing import StandardScaler\n",
    "from sklearn.svm import SVC\n",
    "from sklearn.metrics import accuracy_score\n",
    "from sklearn.model_selection import RandomizedSearchCV\n",
    "from sklearn import preprocessing\n",
    "from sklearn.compose import ColumnTransformer\n",
    "from sklearn.preprocessing import OrdinalEncoder\n",
    "from sklearn.model_selection import GridSearchCV"
   ]
  },
  {
   "cell_type": "code",
   "execution_count": 2,
   "id": "1e47d391",
   "metadata": {
    "execution": {
     "iopub.execute_input": "2023-05-07T14:03:01.244944Z",
     "iopub.status.busy": "2023-05-07T14:03:01.243597Z",
     "iopub.status.idle": "2023-05-07T14:03:01.797642Z",
     "shell.execute_reply": "2023-05-07T14:03:01.796155Z"
    },
    "papermill": {
     "duration": 0.580928,
     "end_time": "2023-05-07T14:03:01.801198",
     "exception": false,
     "start_time": "2023-05-07T14:03:01.220270",
     "status": "completed"
    },
    "tags": []
   },
   "outputs": [],
   "source": [
    "data = pd.read_csv('https://raw.githubusercontent.com/Bhupendra1770/Adult-Census-Income-Prediction/main/adult.csv')"
   ]
  },
  {
   "cell_type": "code",
   "execution_count": 3,
   "id": "6d27eebd",
   "metadata": {
    "execution": {
     "iopub.execute_input": "2023-05-07T14:03:01.842730Z",
     "iopub.status.busy": "2023-05-07T14:03:01.842300Z",
     "iopub.status.idle": "2023-05-07T14:03:01.849238Z",
     "shell.execute_reply": "2023-05-07T14:03:01.847910Z"
    },
    "papermill": {
     "duration": 0.030974,
     "end_time": "2023-05-07T14:03:01.851772",
     "exception": false,
     "start_time": "2023-05-07T14:03:01.820798",
     "status": "completed"
    },
    "tags": []
   },
   "outputs": [],
   "source": [
    "df = data.copy()"
   ]
  },
  {
   "cell_type": "code",
   "execution_count": 4,
   "id": "444df329",
   "metadata": {
    "execution": {
     "iopub.execute_input": "2023-05-07T14:03:01.893284Z",
     "iopub.status.busy": "2023-05-07T14:03:01.892416Z",
     "iopub.status.idle": "2023-05-07T14:03:01.912981Z",
     "shell.execute_reply": "2023-05-07T14:03:01.911939Z"
    },
    "papermill": {
     "duration": 0.044574,
     "end_time": "2023-05-07T14:03:01.915681",
     "exception": false,
     "start_time": "2023-05-07T14:03:01.871107",
     "status": "completed"
    },
    "tags": []
   },
   "outputs": [],
   "source": [
    "df.drop(['fnlwgt','capital-gain','capital-loss'],axis=1,inplace=True)"
   ]
  },
  {
   "cell_type": "code",
   "execution_count": 5,
   "id": "f307143b",
   "metadata": {
    "execution": {
     "iopub.execute_input": "2023-05-07T14:03:01.957004Z",
     "iopub.status.busy": "2023-05-07T14:03:01.956160Z",
     "iopub.status.idle": "2023-05-07T14:03:01.980678Z",
     "shell.execute_reply": "2023-05-07T14:03:01.979321Z"
    },
    "papermill": {
     "duration": 0.04876,
     "end_time": "2023-05-07T14:03:01.983175",
     "exception": false,
     "start_time": "2023-05-07T14:03:01.934415",
     "status": "completed"
    },
    "tags": []
   },
   "outputs": [
    {
     "data": {
      "text/html": [
       "<div>\n",
       "<style scoped>\n",
       "    .dataframe tbody tr th:only-of-type {\n",
       "        vertical-align: middle;\n",
       "    }\n",
       "\n",
       "    .dataframe tbody tr th {\n",
       "        vertical-align: top;\n",
       "    }\n",
       "\n",
       "    .dataframe thead th {\n",
       "        text-align: right;\n",
       "    }\n",
       "</style>\n",
       "<table border=\"1\" class=\"dataframe\">\n",
       "  <thead>\n",
       "    <tr style=\"text-align: right;\">\n",
       "      <th></th>\n",
       "      <th>age</th>\n",
       "      <th>workclass</th>\n",
       "      <th>education</th>\n",
       "      <th>education-num</th>\n",
       "      <th>marital-status</th>\n",
       "      <th>occupation</th>\n",
       "      <th>relationship</th>\n",
       "      <th>race</th>\n",
       "      <th>sex</th>\n",
       "      <th>hours-per-week</th>\n",
       "      <th>country</th>\n",
       "      <th>salary</th>\n",
       "    </tr>\n",
       "  </thead>\n",
       "  <tbody>\n",
       "    <tr>\n",
       "      <th>0</th>\n",
       "      <td>39</td>\n",
       "      <td>State-gov</td>\n",
       "      <td>Bachelors</td>\n",
       "      <td>13</td>\n",
       "      <td>Never-married</td>\n",
       "      <td>Adm-clerical</td>\n",
       "      <td>Not-in-family</td>\n",
       "      <td>White</td>\n",
       "      <td>Male</td>\n",
       "      <td>40</td>\n",
       "      <td>United-States</td>\n",
       "      <td>&lt;=50K</td>\n",
       "    </tr>\n",
       "    <tr>\n",
       "      <th>1</th>\n",
       "      <td>50</td>\n",
       "      <td>Self-emp-not-inc</td>\n",
       "      <td>Bachelors</td>\n",
       "      <td>13</td>\n",
       "      <td>Married-civ-spouse</td>\n",
       "      <td>Exec-managerial</td>\n",
       "      <td>Husband</td>\n",
       "      <td>White</td>\n",
       "      <td>Male</td>\n",
       "      <td>13</td>\n",
       "      <td>United-States</td>\n",
       "      <td>&lt;=50K</td>\n",
       "    </tr>\n",
       "    <tr>\n",
       "      <th>2</th>\n",
       "      <td>38</td>\n",
       "      <td>Private</td>\n",
       "      <td>HS-grad</td>\n",
       "      <td>9</td>\n",
       "      <td>Divorced</td>\n",
       "      <td>Handlers-cleaners</td>\n",
       "      <td>Not-in-family</td>\n",
       "      <td>White</td>\n",
       "      <td>Male</td>\n",
       "      <td>40</td>\n",
       "      <td>United-States</td>\n",
       "      <td>&lt;=50K</td>\n",
       "    </tr>\n",
       "    <tr>\n",
       "      <th>3</th>\n",
       "      <td>53</td>\n",
       "      <td>Private</td>\n",
       "      <td>11th</td>\n",
       "      <td>7</td>\n",
       "      <td>Married-civ-spouse</td>\n",
       "      <td>Handlers-cleaners</td>\n",
       "      <td>Husband</td>\n",
       "      <td>Black</td>\n",
       "      <td>Male</td>\n",
       "      <td>40</td>\n",
       "      <td>United-States</td>\n",
       "      <td>&lt;=50K</td>\n",
       "    </tr>\n",
       "    <tr>\n",
       "      <th>4</th>\n",
       "      <td>28</td>\n",
       "      <td>Private</td>\n",
       "      <td>Bachelors</td>\n",
       "      <td>13</td>\n",
       "      <td>Married-civ-spouse</td>\n",
       "      <td>Prof-specialty</td>\n",
       "      <td>Wife</td>\n",
       "      <td>Black</td>\n",
       "      <td>Female</td>\n",
       "      <td>40</td>\n",
       "      <td>Cuba</td>\n",
       "      <td>&lt;=50K</td>\n",
       "    </tr>\n",
       "  </tbody>\n",
       "</table>\n",
       "</div>"
      ],
      "text/plain": [
       "   age          workclass   education  education-num       marital-status  \\\n",
       "0   39          State-gov   Bachelors             13        Never-married   \n",
       "1   50   Self-emp-not-inc   Bachelors             13   Married-civ-spouse   \n",
       "2   38            Private     HS-grad              9             Divorced   \n",
       "3   53            Private        11th              7   Married-civ-spouse   \n",
       "4   28            Private   Bachelors             13   Married-civ-spouse   \n",
       "\n",
       "           occupation    relationship    race      sex  hours-per-week  \\\n",
       "0        Adm-clerical   Not-in-family   White     Male              40   \n",
       "1     Exec-managerial         Husband   White     Male              13   \n",
       "2   Handlers-cleaners   Not-in-family   White     Male              40   \n",
       "3   Handlers-cleaners         Husband   Black     Male              40   \n",
       "4      Prof-specialty            Wife   Black   Female              40   \n",
       "\n",
       "          country  salary  \n",
       "0   United-States   <=50K  \n",
       "1   United-States   <=50K  \n",
       "2   United-States   <=50K  \n",
       "3   United-States   <=50K  \n",
       "4            Cuba   <=50K  "
      ]
     },
     "execution_count": 5,
     "metadata": {},
     "output_type": "execute_result"
    }
   ],
   "source": [
    "df.head()"
   ]
  },
  {
   "cell_type": "code",
   "execution_count": 6,
   "id": "8086a0ac",
   "metadata": {
    "execution": {
     "iopub.execute_input": "2023-05-07T14:03:02.025465Z",
     "iopub.status.busy": "2023-05-07T14:03:02.024975Z",
     "iopub.status.idle": "2023-05-07T14:03:02.205636Z",
     "shell.execute_reply": "2023-05-07T14:03:02.204404Z"
    },
    "papermill": {
     "duration": 0.205546,
     "end_time": "2023-05-07T14:03:02.208749",
     "exception": false,
     "start_time": "2023-05-07T14:03:02.003203",
     "status": "completed"
    },
    "tags": []
   },
   "outputs": [],
   "source": [
    "import matplotlib.pyplot as plt\n",
    "import seaborn as sns"
   ]
  },
  {
   "cell_type": "code",
   "execution_count": 7,
   "id": "bc75e9e1",
   "metadata": {
    "execution": {
     "iopub.execute_input": "2023-05-07T14:03:02.249124Z",
     "iopub.status.busy": "2023-05-07T14:03:02.248679Z",
     "iopub.status.idle": "2023-05-07T14:03:02.288608Z",
     "shell.execute_reply": "2023-05-07T14:03:02.287535Z"
    },
    "papermill": {
     "duration": 0.063347,
     "end_time": "2023-05-07T14:03:02.290906",
     "exception": false,
     "start_time": "2023-05-07T14:03:02.227559",
     "status": "completed"
    },
    "tags": []
   },
   "outputs": [
    {
     "name": "stdout",
     "output_type": "stream",
     "text": [
      "<class 'pandas.core.frame.DataFrame'>\n",
      "RangeIndex: 32561 entries, 0 to 32560\n",
      "Data columns (total 12 columns):\n",
      " #   Column          Non-Null Count  Dtype \n",
      "---  ------          --------------  ----- \n",
      " 0   age             32561 non-null  int64 \n",
      " 1   workclass       32561 non-null  object\n",
      " 2   education       32561 non-null  object\n",
      " 3   education-num   32561 non-null  int64 \n",
      " 4   marital-status  32561 non-null  object\n",
      " 5   occupation      32561 non-null  object\n",
      " 6   relationship    32561 non-null  object\n",
      " 7   race            32561 non-null  object\n",
      " 8   sex             32561 non-null  object\n",
      " 9   hours-per-week  32561 non-null  int64 \n",
      " 10  country         32561 non-null  object\n",
      " 11  salary          32561 non-null  object\n",
      "dtypes: int64(3), object(9)\n",
      "memory usage: 3.0+ MB\n"
     ]
    }
   ],
   "source": [
    "df.info()"
   ]
  },
  {
   "cell_type": "code",
   "execution_count": 8,
   "id": "17409700",
   "metadata": {
    "execution": {
     "iopub.execute_input": "2023-05-07T14:03:02.332342Z",
     "iopub.status.busy": "2023-05-07T14:03:02.331013Z",
     "iopub.status.idle": "2023-05-07T14:03:02.406375Z",
     "shell.execute_reply": "2023-05-07T14:03:02.405402Z"
    },
    "papermill": {
     "duration": 0.098669,
     "end_time": "2023-05-07T14:03:02.408967",
     "exception": false,
     "start_time": "2023-05-07T14:03:02.310298",
     "status": "completed"
    },
    "tags": []
   },
   "outputs": [
    {
     "data": {
      "text/html": [
       "<div>\n",
       "<style scoped>\n",
       "    .dataframe tbody tr th:only-of-type {\n",
       "        vertical-align: middle;\n",
       "    }\n",
       "\n",
       "    .dataframe tbody tr th {\n",
       "        vertical-align: top;\n",
       "    }\n",
       "\n",
       "    .dataframe thead th {\n",
       "        text-align: right;\n",
       "    }\n",
       "</style>\n",
       "<table border=\"1\" class=\"dataframe\">\n",
       "  <thead>\n",
       "    <tr style=\"text-align: right;\">\n",
       "      <th></th>\n",
       "      <th>age</th>\n",
       "      <th>workclass</th>\n",
       "      <th>education</th>\n",
       "      <th>education-num</th>\n",
       "      <th>marital-status</th>\n",
       "      <th>occupation</th>\n",
       "      <th>relationship</th>\n",
       "      <th>race</th>\n",
       "      <th>sex</th>\n",
       "      <th>hours-per-week</th>\n",
       "      <th>country</th>\n",
       "      <th>salary</th>\n",
       "    </tr>\n",
       "  </thead>\n",
       "  <tbody>\n",
       "    <tr>\n",
       "      <th>count</th>\n",
       "      <td>32561.000000</td>\n",
       "      <td>32561</td>\n",
       "      <td>32561</td>\n",
       "      <td>32561.000000</td>\n",
       "      <td>32561</td>\n",
       "      <td>32561</td>\n",
       "      <td>32561</td>\n",
       "      <td>32561</td>\n",
       "      <td>32561</td>\n",
       "      <td>32561.000000</td>\n",
       "      <td>32561</td>\n",
       "      <td>32561</td>\n",
       "    </tr>\n",
       "    <tr>\n",
       "      <th>unique</th>\n",
       "      <td>NaN</td>\n",
       "      <td>9</td>\n",
       "      <td>16</td>\n",
       "      <td>NaN</td>\n",
       "      <td>7</td>\n",
       "      <td>15</td>\n",
       "      <td>6</td>\n",
       "      <td>5</td>\n",
       "      <td>2</td>\n",
       "      <td>NaN</td>\n",
       "      <td>42</td>\n",
       "      <td>2</td>\n",
       "    </tr>\n",
       "    <tr>\n",
       "      <th>top</th>\n",
       "      <td>NaN</td>\n",
       "      <td>Private</td>\n",
       "      <td>HS-grad</td>\n",
       "      <td>NaN</td>\n",
       "      <td>Married-civ-spouse</td>\n",
       "      <td>Prof-specialty</td>\n",
       "      <td>Husband</td>\n",
       "      <td>White</td>\n",
       "      <td>Male</td>\n",
       "      <td>NaN</td>\n",
       "      <td>United-States</td>\n",
       "      <td>&lt;=50K</td>\n",
       "    </tr>\n",
       "    <tr>\n",
       "      <th>freq</th>\n",
       "      <td>NaN</td>\n",
       "      <td>22696</td>\n",
       "      <td>10501</td>\n",
       "      <td>NaN</td>\n",
       "      <td>14976</td>\n",
       "      <td>4140</td>\n",
       "      <td>13193</td>\n",
       "      <td>27816</td>\n",
       "      <td>21790</td>\n",
       "      <td>NaN</td>\n",
       "      <td>29170</td>\n",
       "      <td>24720</td>\n",
       "    </tr>\n",
       "    <tr>\n",
       "      <th>mean</th>\n",
       "      <td>38.581647</td>\n",
       "      <td>NaN</td>\n",
       "      <td>NaN</td>\n",
       "      <td>10.080679</td>\n",
       "      <td>NaN</td>\n",
       "      <td>NaN</td>\n",
       "      <td>NaN</td>\n",
       "      <td>NaN</td>\n",
       "      <td>NaN</td>\n",
       "      <td>40.437456</td>\n",
       "      <td>NaN</td>\n",
       "      <td>NaN</td>\n",
       "    </tr>\n",
       "    <tr>\n",
       "      <th>std</th>\n",
       "      <td>13.640433</td>\n",
       "      <td>NaN</td>\n",
       "      <td>NaN</td>\n",
       "      <td>2.572720</td>\n",
       "      <td>NaN</td>\n",
       "      <td>NaN</td>\n",
       "      <td>NaN</td>\n",
       "      <td>NaN</td>\n",
       "      <td>NaN</td>\n",
       "      <td>12.347429</td>\n",
       "      <td>NaN</td>\n",
       "      <td>NaN</td>\n",
       "    </tr>\n",
       "    <tr>\n",
       "      <th>min</th>\n",
       "      <td>17.000000</td>\n",
       "      <td>NaN</td>\n",
       "      <td>NaN</td>\n",
       "      <td>1.000000</td>\n",
       "      <td>NaN</td>\n",
       "      <td>NaN</td>\n",
       "      <td>NaN</td>\n",
       "      <td>NaN</td>\n",
       "      <td>NaN</td>\n",
       "      <td>1.000000</td>\n",
       "      <td>NaN</td>\n",
       "      <td>NaN</td>\n",
       "    </tr>\n",
       "    <tr>\n",
       "      <th>25%</th>\n",
       "      <td>28.000000</td>\n",
       "      <td>NaN</td>\n",
       "      <td>NaN</td>\n",
       "      <td>9.000000</td>\n",
       "      <td>NaN</td>\n",
       "      <td>NaN</td>\n",
       "      <td>NaN</td>\n",
       "      <td>NaN</td>\n",
       "      <td>NaN</td>\n",
       "      <td>40.000000</td>\n",
       "      <td>NaN</td>\n",
       "      <td>NaN</td>\n",
       "    </tr>\n",
       "    <tr>\n",
       "      <th>50%</th>\n",
       "      <td>37.000000</td>\n",
       "      <td>NaN</td>\n",
       "      <td>NaN</td>\n",
       "      <td>10.000000</td>\n",
       "      <td>NaN</td>\n",
       "      <td>NaN</td>\n",
       "      <td>NaN</td>\n",
       "      <td>NaN</td>\n",
       "      <td>NaN</td>\n",
       "      <td>40.000000</td>\n",
       "      <td>NaN</td>\n",
       "      <td>NaN</td>\n",
       "    </tr>\n",
       "    <tr>\n",
       "      <th>75%</th>\n",
       "      <td>48.000000</td>\n",
       "      <td>NaN</td>\n",
       "      <td>NaN</td>\n",
       "      <td>12.000000</td>\n",
       "      <td>NaN</td>\n",
       "      <td>NaN</td>\n",
       "      <td>NaN</td>\n",
       "      <td>NaN</td>\n",
       "      <td>NaN</td>\n",
       "      <td>45.000000</td>\n",
       "      <td>NaN</td>\n",
       "      <td>NaN</td>\n",
       "    </tr>\n",
       "    <tr>\n",
       "      <th>max</th>\n",
       "      <td>90.000000</td>\n",
       "      <td>NaN</td>\n",
       "      <td>NaN</td>\n",
       "      <td>16.000000</td>\n",
       "      <td>NaN</td>\n",
       "      <td>NaN</td>\n",
       "      <td>NaN</td>\n",
       "      <td>NaN</td>\n",
       "      <td>NaN</td>\n",
       "      <td>99.000000</td>\n",
       "      <td>NaN</td>\n",
       "      <td>NaN</td>\n",
       "    </tr>\n",
       "  </tbody>\n",
       "</table>\n",
       "</div>"
      ],
      "text/plain": [
       "                 age workclass education  education-num       marital-status  \\\n",
       "count   32561.000000     32561     32561   32561.000000                32561   \n",
       "unique           NaN         9        16            NaN                    7   \n",
       "top              NaN   Private   HS-grad            NaN   Married-civ-spouse   \n",
       "freq             NaN     22696     10501            NaN                14976   \n",
       "mean       38.581647       NaN       NaN      10.080679                  NaN   \n",
       "std        13.640433       NaN       NaN       2.572720                  NaN   \n",
       "min        17.000000       NaN       NaN       1.000000                  NaN   \n",
       "25%        28.000000       NaN       NaN       9.000000                  NaN   \n",
       "50%        37.000000       NaN       NaN      10.000000                  NaN   \n",
       "75%        48.000000       NaN       NaN      12.000000                  NaN   \n",
       "max        90.000000       NaN       NaN      16.000000                  NaN   \n",
       "\n",
       "             occupation relationship    race    sex  hours-per-week  \\\n",
       "count             32561        32561   32561  32561    32561.000000   \n",
       "unique               15            6       5      2             NaN   \n",
       "top      Prof-specialty      Husband   White   Male             NaN   \n",
       "freq               4140        13193   27816  21790             NaN   \n",
       "mean                NaN          NaN     NaN    NaN       40.437456   \n",
       "std                 NaN          NaN     NaN    NaN       12.347429   \n",
       "min                 NaN          NaN     NaN    NaN        1.000000   \n",
       "25%                 NaN          NaN     NaN    NaN       40.000000   \n",
       "50%                 NaN          NaN     NaN    NaN       40.000000   \n",
       "75%                 NaN          NaN     NaN    NaN       45.000000   \n",
       "max                 NaN          NaN     NaN    NaN       99.000000   \n",
       "\n",
       "               country  salary  \n",
       "count            32561   32561  \n",
       "unique              42       2  \n",
       "top      United-States   <=50K  \n",
       "freq             29170   24720  \n",
       "mean               NaN     NaN  \n",
       "std                NaN     NaN  \n",
       "min                NaN     NaN  \n",
       "25%                NaN     NaN  \n",
       "50%                NaN     NaN  \n",
       "75%                NaN     NaN  \n",
       "max                NaN     NaN  "
      ]
     },
     "execution_count": 8,
     "metadata": {},
     "output_type": "execute_result"
    }
   ],
   "source": [
    "df.describe(include='all')"
   ]
  },
  {
   "cell_type": "code",
   "execution_count": 9,
   "id": "271f3ee3",
   "metadata": {
    "execution": {
     "iopub.execute_input": "2023-05-07T14:03:02.451419Z",
     "iopub.status.busy": "2023-05-07T14:03:02.450923Z",
     "iopub.status.idle": "2023-05-07T14:03:02.459260Z",
     "shell.execute_reply": "2023-05-07T14:03:02.457945Z"
    },
    "papermill": {
     "duration": 0.032287,
     "end_time": "2023-05-07T14:03:02.461789",
     "exception": false,
     "start_time": "2023-05-07T14:03:02.429502",
     "status": "completed"
    },
    "tags": []
   },
   "outputs": [
    {
     "data": {
      "text/plain": [
       "(32561, 12)"
      ]
     },
     "execution_count": 9,
     "metadata": {},
     "output_type": "execute_result"
    }
   ],
   "source": [
    "#total rows and columns in dataset\n",
    "df.shape"
   ]
  },
  {
   "cell_type": "code",
   "execution_count": 10,
   "id": "c53c9f6e",
   "metadata": {
    "execution": {
     "iopub.execute_input": "2023-05-07T14:03:02.503677Z",
     "iopub.status.busy": "2023-05-07T14:03:02.503168Z",
     "iopub.status.idle": "2023-05-07T14:03:02.647942Z",
     "shell.execute_reply": "2023-05-07T14:03:02.646215Z"
    },
    "papermill": {
     "duration": 0.169407,
     "end_time": "2023-05-07T14:03:02.650997",
     "exception": false,
     "start_time": "2023-05-07T14:03:02.481590",
     "status": "completed"
    },
    "tags": []
   },
   "outputs": [],
   "source": [
    "#cleaning string in object columns\n",
    "for i in df.columns:\n",
    "    if df[i].dtype=='object':\n",
    "        df[i] = df[i].str.strip()"
   ]
  },
  {
   "cell_type": "code",
   "execution_count": 11,
   "id": "403996f7",
   "metadata": {
    "execution": {
     "iopub.execute_input": "2023-05-07T14:03:02.694858Z",
     "iopub.status.busy": "2023-05-07T14:03:02.693716Z",
     "iopub.status.idle": "2023-05-07T14:03:02.724697Z",
     "shell.execute_reply": "2023-05-07T14:03:02.723315Z"
    },
    "papermill": {
     "duration": 0.05576,
     "end_time": "2023-05-07T14:03:02.727613",
     "exception": false,
     "start_time": "2023-05-07T14:03:02.671853",
     "status": "completed"
    },
    "tags": []
   },
   "outputs": [],
   "source": [
    "#encoding salary column\n",
    "df['salary']=df['salary'].replace('<=50K',0)\n",
    "df['salary']=df['salary'].replace('>50K',1)\n",
    "df['sex']=df['sex'].replace('gender')\n"
   ]
  },
  {
   "cell_type": "code",
   "execution_count": 12,
   "id": "a784a14c",
   "metadata": {
    "execution": {
     "iopub.execute_input": "2023-05-07T14:03:02.770699Z",
     "iopub.status.busy": "2023-05-07T14:03:02.769085Z",
     "iopub.status.idle": "2023-05-07T14:03:02.789556Z",
     "shell.execute_reply": "2023-05-07T14:03:02.788697Z"
    },
    "papermill": {
     "duration": 0.044727,
     "end_time": "2023-05-07T14:03:02.791872",
     "exception": false,
     "start_time": "2023-05-07T14:03:02.747145",
     "status": "completed"
    },
    "tags": []
   },
   "outputs": [
    {
     "data": {
      "text/plain": [
       "(24720, 12)"
      ]
     },
     "execution_count": 12,
     "metadata": {},
     "output_type": "execute_result"
    }
   ],
   "source": [
    "#people whose earning less than 50K\n",
    "df[df['salary']==0].shape"
   ]
  },
  {
   "cell_type": "code",
   "execution_count": 13,
   "id": "51e2e9ff",
   "metadata": {
    "execution": {
     "iopub.execute_input": "2023-05-07T14:03:02.833898Z",
     "iopub.status.busy": "2023-05-07T14:03:02.833107Z",
     "iopub.status.idle": "2023-05-07T14:03:02.845928Z",
     "shell.execute_reply": "2023-05-07T14:03:02.844489Z"
    },
    "papermill": {
     "duration": 0.037,
     "end_time": "2023-05-07T14:03:02.848545",
     "exception": false,
     "start_time": "2023-05-07T14:03:02.811545",
     "status": "completed"
    },
    "tags": []
   },
   "outputs": [
    {
     "data": {
      "text/plain": [
       "(7841, 12)"
      ]
     },
     "execution_count": 13,
     "metadata": {},
     "output_type": "execute_result"
    }
   ],
   "source": [
    "#people whose earning more than 50K\n",
    "df[df['salary']==1].shape"
   ]
  },
  {
   "cell_type": "code",
   "execution_count": 14,
   "id": "976da034",
   "metadata": {
    "execution": {
     "iopub.execute_input": "2023-05-07T14:03:02.890843Z",
     "iopub.status.busy": "2023-05-07T14:03:02.890149Z",
     "iopub.status.idle": "2023-05-07T14:03:05.711136Z",
     "shell.execute_reply": "2023-05-07T14:03:05.709866Z"
    },
    "papermill": {
     "duration": 2.845418,
     "end_time": "2023-05-07T14:03:05.713878",
     "exception": false,
     "start_time": "2023-05-07T14:03:02.868460",
     "status": "completed"
    },
    "tags": []
   },
   "outputs": [
    {
     "name": "stdout",
     "output_type": "stream",
     "text": [
      "4262\n"
     ]
    }
   ],
   "source": [
    "#cleaning rows\n",
    "l=[]\n",
    "for i in df.columns:\n",
    "    for j in range(df.shape[0]):\n",
    "        if df[i][j]=='?':\n",
    "            l.append(j)\n",
    "df.drop(index=l,inplace=True)\n",
    "print(len(l))"
   ]
  },
  {
   "cell_type": "code",
   "execution_count": 15,
   "id": "78ffc67f",
   "metadata": {
    "execution": {
     "iopub.execute_input": "2023-05-07T14:03:05.757123Z",
     "iopub.status.busy": "2023-05-07T14:03:05.756561Z",
     "iopub.status.idle": "2023-05-07T14:03:05.779668Z",
     "shell.execute_reply": "2023-05-07T14:03:05.778409Z"
    },
    "papermill": {
     "duration": 0.04862,
     "end_time": "2023-05-07T14:03:05.782776",
     "exception": false,
     "start_time": "2023-05-07T14:03:05.734156",
     "status": "completed"
    },
    "tags": []
   },
   "outputs": [
    {
     "data": {
      "text/plain": [
       "age               0\n",
       "workclass         0\n",
       "education         0\n",
       "education-num     0\n",
       "marital-status    0\n",
       "occupation        0\n",
       "relationship      0\n",
       "race              0\n",
       "sex               0\n",
       "hours-per-week    0\n",
       "country           0\n",
       "salary            0\n",
       "dtype: int64"
      ]
     },
     "execution_count": 15,
     "metadata": {},
     "output_type": "execute_result"
    }
   ],
   "source": [
    "#no null value in dataset\n",
    "df.isnull().sum()"
   ]
  },
  {
   "cell_type": "code",
   "execution_count": 16,
   "id": "574910a7",
   "metadata": {
    "execution": {
     "iopub.execute_input": "2023-05-07T14:03:05.828537Z",
     "iopub.status.busy": "2023-05-07T14:03:05.828123Z",
     "iopub.status.idle": "2023-05-07T14:03:05.858394Z",
     "shell.execute_reply": "2023-05-07T14:03:05.857246Z"
    },
    "papermill": {
     "duration": 0.055021,
     "end_time": "2023-05-07T14:03:05.860738",
     "exception": false,
     "start_time": "2023-05-07T14:03:05.805717",
     "status": "completed"
    },
    "tags": []
   },
   "outputs": [
    {
     "name": "stdout",
     "output_type": "stream",
     "text": [
      "4876\n"
     ]
    },
    {
     "data": {
      "text/html": [
       "<div>\n",
       "<style scoped>\n",
       "    .dataframe tbody tr th:only-of-type {\n",
       "        vertical-align: middle;\n",
       "    }\n",
       "\n",
       "    .dataframe tbody tr th {\n",
       "        vertical-align: top;\n",
       "    }\n",
       "\n",
       "    .dataframe thead th {\n",
       "        text-align: right;\n",
       "    }\n",
       "</style>\n",
       "<table border=\"1\" class=\"dataframe\">\n",
       "  <thead>\n",
       "    <tr style=\"text-align: right;\">\n",
       "      <th></th>\n",
       "      <th>age</th>\n",
       "      <th>workclass</th>\n",
       "      <th>education</th>\n",
       "      <th>education-num</th>\n",
       "      <th>marital-status</th>\n",
       "      <th>occupation</th>\n",
       "      <th>relationship</th>\n",
       "      <th>race</th>\n",
       "      <th>sex</th>\n",
       "      <th>hours-per-week</th>\n",
       "      <th>country</th>\n",
       "      <th>salary</th>\n",
       "    </tr>\n",
       "  </thead>\n",
       "  <tbody>\n",
       "    <tr>\n",
       "      <th>8</th>\n",
       "      <td>31</td>\n",
       "      <td>Private</td>\n",
       "      <td>Masters</td>\n",
       "      <td>14</td>\n",
       "      <td>Never-married</td>\n",
       "      <td>Prof-specialty</td>\n",
       "      <td>Not-in-family</td>\n",
       "      <td>White</td>\n",
       "      <td>Female</td>\n",
       "      <td>50</td>\n",
       "      <td>United-States</td>\n",
       "      <td>1</td>\n",
       "    </tr>\n",
       "    <tr>\n",
       "      <th>9</th>\n",
       "      <td>42</td>\n",
       "      <td>Private</td>\n",
       "      <td>Bachelors</td>\n",
       "      <td>13</td>\n",
       "      <td>Married-civ-spouse</td>\n",
       "      <td>Exec-managerial</td>\n",
       "      <td>Husband</td>\n",
       "      <td>White</td>\n",
       "      <td>Male</td>\n",
       "      <td>40</td>\n",
       "      <td>United-States</td>\n",
       "      <td>1</td>\n",
       "    </tr>\n",
       "  </tbody>\n",
       "</table>\n",
       "</div>"
      ],
      "text/plain": [
       "   age workclass  education  education-num      marital-status  \\\n",
       "8   31   Private    Masters             14       Never-married   \n",
       "9   42   Private  Bachelors             13  Married-civ-spouse   \n",
       "\n",
       "        occupation   relationship   race     sex  hours-per-week  \\\n",
       "8   Prof-specialty  Not-in-family  White  Female              50   \n",
       "9  Exec-managerial        Husband  White    Male              40   \n",
       "\n",
       "         country  salary  \n",
       "8  United-States       1  \n",
       "9  United-States       1  "
      ]
     },
     "execution_count": 16,
     "metadata": {},
     "output_type": "execute_result"
    }
   ],
   "source": [
    "#doing private job and salary more than 50K\n",
    "new_df=df[df['workclass']=='Private']\n",
    "print(len(new_df[new_df['salary']==1]))\n",
    "new_df[new_df['salary']==1].head(2)"
   ]
  },
  {
   "cell_type": "code",
   "execution_count": 17,
   "id": "fe74575e",
   "metadata": {
    "execution": {
     "iopub.execute_input": "2023-05-07T14:03:05.903952Z",
     "iopub.status.busy": "2023-05-07T14:03:05.903480Z",
     "iopub.status.idle": "2023-05-07T14:03:05.925857Z",
     "shell.execute_reply": "2023-05-07T14:03:05.924971Z"
    },
    "papermill": {
     "duration": 0.047174,
     "end_time": "2023-05-07T14:03:05.928309",
     "exception": false,
     "start_time": "2023-05-07T14:03:05.881135",
     "status": "completed"
    },
    "tags": []
   },
   "outputs": [
    {
     "data": {
      "text/html": [
       "<div>\n",
       "<style scoped>\n",
       "    .dataframe tbody tr th:only-of-type {\n",
       "        vertical-align: middle;\n",
       "    }\n",
       "\n",
       "    .dataframe tbody tr th {\n",
       "        vertical-align: top;\n",
       "    }\n",
       "\n",
       "    .dataframe thead th {\n",
       "        text-align: right;\n",
       "    }\n",
       "</style>\n",
       "<table border=\"1\" class=\"dataframe\">\n",
       "  <thead>\n",
       "    <tr style=\"text-align: right;\">\n",
       "      <th></th>\n",
       "      <th>age</th>\n",
       "      <th>workclass</th>\n",
       "      <th>education</th>\n",
       "      <th>education-num</th>\n",
       "      <th>marital-status</th>\n",
       "      <th>occupation</th>\n",
       "      <th>relationship</th>\n",
       "      <th>race</th>\n",
       "      <th>sex</th>\n",
       "      <th>hours-per-week</th>\n",
       "      <th>country</th>\n",
       "      <th>salary</th>\n",
       "    </tr>\n",
       "  </thead>\n",
       "  <tbody>\n",
       "    <tr>\n",
       "      <th>0</th>\n",
       "      <td>39</td>\n",
       "      <td>State-gov</td>\n",
       "      <td>Bachelors</td>\n",
       "      <td>13</td>\n",
       "      <td>Never-married</td>\n",
       "      <td>Adm-clerical</td>\n",
       "      <td>Not-in-family</td>\n",
       "      <td>White</td>\n",
       "      <td>Male</td>\n",
       "      <td>40</td>\n",
       "      <td>United-States</td>\n",
       "      <td>0</td>\n",
       "    </tr>\n",
       "    <tr>\n",
       "      <th>1</th>\n",
       "      <td>50</td>\n",
       "      <td>Self-emp-not-inc</td>\n",
       "      <td>Bachelors</td>\n",
       "      <td>13</td>\n",
       "      <td>Married-civ-spouse</td>\n",
       "      <td>Exec-managerial</td>\n",
       "      <td>Husband</td>\n",
       "      <td>White</td>\n",
       "      <td>Male</td>\n",
       "      <td>13</td>\n",
       "      <td>United-States</td>\n",
       "      <td>0</td>\n",
       "    </tr>\n",
       "    <tr>\n",
       "      <th>2</th>\n",
       "      <td>38</td>\n",
       "      <td>Private</td>\n",
       "      <td>HS-grad</td>\n",
       "      <td>9</td>\n",
       "      <td>Divorced</td>\n",
       "      <td>Handlers-cleaners</td>\n",
       "      <td>Not-in-family</td>\n",
       "      <td>White</td>\n",
       "      <td>Male</td>\n",
       "      <td>40</td>\n",
       "      <td>United-States</td>\n",
       "      <td>0</td>\n",
       "    </tr>\n",
       "    <tr>\n",
       "      <th>3</th>\n",
       "      <td>53</td>\n",
       "      <td>Private</td>\n",
       "      <td>11th</td>\n",
       "      <td>7</td>\n",
       "      <td>Married-civ-spouse</td>\n",
       "      <td>Handlers-cleaners</td>\n",
       "      <td>Husband</td>\n",
       "      <td>Black</td>\n",
       "      <td>Male</td>\n",
       "      <td>40</td>\n",
       "      <td>United-States</td>\n",
       "      <td>0</td>\n",
       "    </tr>\n",
       "    <tr>\n",
       "      <th>4</th>\n",
       "      <td>28</td>\n",
       "      <td>Private</td>\n",
       "      <td>Bachelors</td>\n",
       "      <td>13</td>\n",
       "      <td>Married-civ-spouse</td>\n",
       "      <td>Prof-specialty</td>\n",
       "      <td>Wife</td>\n",
       "      <td>Black</td>\n",
       "      <td>Female</td>\n",
       "      <td>40</td>\n",
       "      <td>Cuba</td>\n",
       "      <td>0</td>\n",
       "    </tr>\n",
       "    <tr>\n",
       "      <th>...</th>\n",
       "      <td>...</td>\n",
       "      <td>...</td>\n",
       "      <td>...</td>\n",
       "      <td>...</td>\n",
       "      <td>...</td>\n",
       "      <td>...</td>\n",
       "      <td>...</td>\n",
       "      <td>...</td>\n",
       "      <td>...</td>\n",
       "      <td>...</td>\n",
       "      <td>...</td>\n",
       "      <td>...</td>\n",
       "    </tr>\n",
       "    <tr>\n",
       "      <th>32556</th>\n",
       "      <td>27</td>\n",
       "      <td>Private</td>\n",
       "      <td>Assoc-acdm</td>\n",
       "      <td>12</td>\n",
       "      <td>Married-civ-spouse</td>\n",
       "      <td>Tech-support</td>\n",
       "      <td>Wife</td>\n",
       "      <td>White</td>\n",
       "      <td>Female</td>\n",
       "      <td>38</td>\n",
       "      <td>United-States</td>\n",
       "      <td>0</td>\n",
       "    </tr>\n",
       "    <tr>\n",
       "      <th>32557</th>\n",
       "      <td>40</td>\n",
       "      <td>Private</td>\n",
       "      <td>HS-grad</td>\n",
       "      <td>9</td>\n",
       "      <td>Married-civ-spouse</td>\n",
       "      <td>Machine-op-inspct</td>\n",
       "      <td>Husband</td>\n",
       "      <td>White</td>\n",
       "      <td>Male</td>\n",
       "      <td>40</td>\n",
       "      <td>United-States</td>\n",
       "      <td>1</td>\n",
       "    </tr>\n",
       "    <tr>\n",
       "      <th>32558</th>\n",
       "      <td>58</td>\n",
       "      <td>Private</td>\n",
       "      <td>HS-grad</td>\n",
       "      <td>9</td>\n",
       "      <td>Widowed</td>\n",
       "      <td>Adm-clerical</td>\n",
       "      <td>Unmarried</td>\n",
       "      <td>White</td>\n",
       "      <td>Female</td>\n",
       "      <td>40</td>\n",
       "      <td>United-States</td>\n",
       "      <td>0</td>\n",
       "    </tr>\n",
       "    <tr>\n",
       "      <th>32559</th>\n",
       "      <td>22</td>\n",
       "      <td>Private</td>\n",
       "      <td>HS-grad</td>\n",
       "      <td>9</td>\n",
       "      <td>Never-married</td>\n",
       "      <td>Adm-clerical</td>\n",
       "      <td>Own-child</td>\n",
       "      <td>White</td>\n",
       "      <td>Male</td>\n",
       "      <td>20</td>\n",
       "      <td>United-States</td>\n",
       "      <td>0</td>\n",
       "    </tr>\n",
       "    <tr>\n",
       "      <th>32560</th>\n",
       "      <td>52</td>\n",
       "      <td>Self-emp-inc</td>\n",
       "      <td>HS-grad</td>\n",
       "      <td>9</td>\n",
       "      <td>Married-civ-spouse</td>\n",
       "      <td>Exec-managerial</td>\n",
       "      <td>Wife</td>\n",
       "      <td>White</td>\n",
       "      <td>Female</td>\n",
       "      <td>40</td>\n",
       "      <td>United-States</td>\n",
       "      <td>1</td>\n",
       "    </tr>\n",
       "  </tbody>\n",
       "</table>\n",
       "<p>30162 rows × 12 columns</p>\n",
       "</div>"
      ],
      "text/plain": [
       "       age         workclass   education  education-num      marital-status  \\\n",
       "0       39         State-gov   Bachelors             13       Never-married   \n",
       "1       50  Self-emp-not-inc   Bachelors             13  Married-civ-spouse   \n",
       "2       38           Private     HS-grad              9            Divorced   \n",
       "3       53           Private        11th              7  Married-civ-spouse   \n",
       "4       28           Private   Bachelors             13  Married-civ-spouse   \n",
       "...    ...               ...         ...            ...                 ...   \n",
       "32556   27           Private  Assoc-acdm             12  Married-civ-spouse   \n",
       "32557   40           Private     HS-grad              9  Married-civ-spouse   \n",
       "32558   58           Private     HS-grad              9             Widowed   \n",
       "32559   22           Private     HS-grad              9       Never-married   \n",
       "32560   52      Self-emp-inc     HS-grad              9  Married-civ-spouse   \n",
       "\n",
       "              occupation   relationship   race     sex  hours-per-week  \\\n",
       "0           Adm-clerical  Not-in-family  White    Male              40   \n",
       "1        Exec-managerial        Husband  White    Male              13   \n",
       "2      Handlers-cleaners  Not-in-family  White    Male              40   \n",
       "3      Handlers-cleaners        Husband  Black    Male              40   \n",
       "4         Prof-specialty           Wife  Black  Female              40   \n",
       "...                  ...            ...    ...     ...             ...   \n",
       "32556       Tech-support           Wife  White  Female              38   \n",
       "32557  Machine-op-inspct        Husband  White    Male              40   \n",
       "32558       Adm-clerical      Unmarried  White  Female              40   \n",
       "32559       Adm-clerical      Own-child  White    Male              20   \n",
       "32560    Exec-managerial           Wife  White  Female              40   \n",
       "\n",
       "             country  salary  \n",
       "0      United-States       0  \n",
       "1      United-States       0  \n",
       "2      United-States       0  \n",
       "3      United-States       0  \n",
       "4               Cuba       0  \n",
       "...              ...     ...  \n",
       "32556  United-States       0  \n",
       "32557  United-States       1  \n",
       "32558  United-States       0  \n",
       "32559  United-States       0  \n",
       "32560  United-States       1  \n",
       "\n",
       "[30162 rows x 12 columns]"
      ]
     },
     "execution_count": 17,
     "metadata": {},
     "output_type": "execute_result"
    }
   ],
   "source": [
    "df"
   ]
  },
  {
   "cell_type": "markdown",
   "id": "0a3129ba",
   "metadata": {
    "papermill": {
     "duration": 0.021339,
     "end_time": "2023-05-07T14:03:05.970616",
     "exception": false,
     "start_time": "2023-05-07T14:03:05.949277",
     "status": "completed"
    },
    "tags": []
   },
   "source": [
    "- so there is 4876 people are doing job in private class and earn more than 50K"
   ]
  },
  {
   "cell_type": "code",
   "execution_count": 18,
   "id": "3ef9c552",
   "metadata": {
    "execution": {
     "iopub.execute_input": "2023-05-07T14:03:06.017024Z",
     "iopub.status.busy": "2023-05-07T14:03:06.016378Z",
     "iopub.status.idle": "2023-05-07T14:03:06.028169Z",
     "shell.execute_reply": "2023-05-07T14:03:06.027110Z"
    },
    "papermill": {
     "duration": 0.03835,
     "end_time": "2023-05-07T14:03:06.030864",
     "exception": false,
     "start_time": "2023-05-07T14:03:05.992514",
     "status": "completed"
    },
    "tags": []
   },
   "outputs": [],
   "source": [
    "df = df.rename(columns={'sex': 'gender'})\n"
   ]
  },
  {
   "cell_type": "code",
   "execution_count": 19,
   "id": "14a0269b",
   "metadata": {
    "execution": {
     "iopub.execute_input": "2023-05-07T14:03:06.076996Z",
     "iopub.status.busy": "2023-05-07T14:03:06.076284Z",
     "iopub.status.idle": "2023-05-07T14:03:06.409915Z",
     "shell.execute_reply": "2023-05-07T14:03:06.408597Z"
    },
    "papermill": {
     "duration": 0.359836,
     "end_time": "2023-05-07T14:03:06.412603",
     "exception": false,
     "start_time": "2023-05-07T14:03:06.052767",
     "status": "completed"
    },
    "tags": []
   },
   "outputs": [
    {
     "data": {
      "text/plain": [
       "<AxesSubplot:xlabel='salary'>"
      ]
     },
     "execution_count": 19,
     "metadata": {},
     "output_type": "execute_result"
    },
    {
     "data": {
      "image/png": "[encoded data removed]",
      "text/plain": [
       "<Figure size 640x480 with 1 Axes>"
      ]
     },
     "metadata": {},
     "output_type": "display_data"
    }
   ],
   "source": [
    "#cheacking male and female ration according to their salary\n",
    "class_sex = pd.crosstab(df['salary'],df['gender'])\n",
    "class_sex.plot(kind='bar')"
   ]
  },
  {
   "cell_type": "code",
   "execution_count": 20,
   "id": "94d2219a",
   "metadata": {
    "execution": {
     "iopub.execute_input": "2023-05-07T14:03:06.457864Z",
     "iopub.status.busy": "2023-05-07T14:03:06.457399Z",
     "iopub.status.idle": "2023-05-07T14:03:06.648293Z",
     "shell.execute_reply": "2023-05-07T14:03:06.646962Z"
    },
    "papermill": {
     "duration": 0.216811,
     "end_time": "2023-05-07T14:03:06.650989",
     "exception": false,
     "start_time": "2023-05-07T14:03:06.434178",
     "status": "completed"
    },
    "tags": []
   },
   "outputs": [
    {
     "data": {
      "image/png": "[encoded data removed]",
      "text/plain": [
       "<Figure size 500x500 with 1 Axes>"
      ]
     },
     "metadata": {},
     "output_type": "display_data"
    }
   ],
   "source": [
    "plt.figure(figsize=(5,5))\n",
    "total = float(len(data) )\n",
    "\n",
    "ax = sns.countplot(x = \"salary\", data = df)\n",
    "for p in ax.patches:\n",
    "    height = p.get_height()\n",
    "    ax.text(p.get_x()+p.get_width()/2.,\n",
    "            height + 3,\n",
    "            '{:1.2f}'.format((height/total)*100),\n",
    "            ha=\"center\") \n",
    "plt.show()"
   ]
  },
  {
   "cell_type": "code",
   "execution_count": 21,
   "id": "bf6ba969",
   "metadata": {
    "execution": {
     "iopub.execute_input": "2023-05-07T14:03:06.701331Z",
     "iopub.status.busy": "2023-05-07T14:03:06.700890Z",
     "iopub.status.idle": "2023-05-07T14:03:06.714090Z",
     "shell.execute_reply": "2023-05-07T14:03:06.712541Z"
    },
    "papermill": {
     "duration": 0.041768,
     "end_time": "2023-05-07T14:03:06.717251",
     "exception": false,
     "start_time": "2023-05-07T14:03:06.675483",
     "status": "completed"
    },
    "tags": []
   },
   "outputs": [
    {
     "data": {
      "text/plain": [
       "Private             22286\n",
       "Self-emp-not-inc     2499\n",
       "Local-gov            2067\n",
       "State-gov            1279\n",
       "Self-emp-inc         1074\n",
       "Federal-gov           943\n",
       "Without-pay            14\n",
       "Name: workclass, dtype: int64"
      ]
     },
     "execution_count": 21,
     "metadata": {},
     "output_type": "execute_result"
    }
   ],
   "source": [
    "df['workclass'].value_counts()"
   ]
  },
  {
   "cell_type": "code",
   "execution_count": 22,
   "id": "017c0936",
   "metadata": {
    "execution": {
     "iopub.execute_input": "2023-05-07T14:03:06.764393Z",
     "iopub.status.busy": "2023-05-07T14:03:06.763902Z",
     "iopub.status.idle": "2023-05-07T14:03:06.791566Z",
     "shell.execute_reply": "2023-05-07T14:03:06.790266Z"
    },
    "papermill": {
     "duration": 0.054475,
     "end_time": "2023-05-07T14:03:06.794222",
     "exception": false,
     "start_time": "2023-05-07T14:03:06.739747",
     "status": "completed"
    },
    "tags": []
   },
   "outputs": [
    {
     "name": "stdout",
     "output_type": "stream",
     "text": [
      "5042\n"
     ]
    },
    {
     "data": {
      "text/html": [
       "<div>\n",
       "<style scoped>\n",
       "    .dataframe tbody tr th:only-of-type {\n",
       "        vertical-align: middle;\n",
       "    }\n",
       "\n",
       "    .dataframe tbody tr th {\n",
       "        vertical-align: top;\n",
       "    }\n",
       "\n",
       "    .dataframe thead th {\n",
       "        text-align: right;\n",
       "    }\n",
       "</style>\n",
       "<table border=\"1\" class=\"dataframe\">\n",
       "  <thead>\n",
       "    <tr style=\"text-align: right;\">\n",
       "      <th></th>\n",
       "      <th>age</th>\n",
       "      <th>workclass</th>\n",
       "      <th>education</th>\n",
       "      <th>education-num</th>\n",
       "      <th>marital-status</th>\n",
       "      <th>occupation</th>\n",
       "      <th>relationship</th>\n",
       "      <th>race</th>\n",
       "      <th>gender</th>\n",
       "      <th>hours-per-week</th>\n",
       "      <th>country</th>\n",
       "      <th>salary</th>\n",
       "    </tr>\n",
       "  </thead>\n",
       "  <tbody>\n",
       "    <tr>\n",
       "      <th>7</th>\n",
       "      <td>52</td>\n",
       "      <td>Self-emp-not-inc</td>\n",
       "      <td>HS-grad</td>\n",
       "      <td>9</td>\n",
       "      <td>Married-civ-spouse</td>\n",
       "      <td>Exec-managerial</td>\n",
       "      <td>Husband</td>\n",
       "      <td>White</td>\n",
       "      <td>Male</td>\n",
       "      <td>45</td>\n",
       "      <td>United-States</td>\n",
       "      <td>1</td>\n",
       "    </tr>\n",
       "    <tr>\n",
       "      <th>9</th>\n",
       "      <td>42</td>\n",
       "      <td>Private</td>\n",
       "      <td>Bachelors</td>\n",
       "      <td>13</td>\n",
       "      <td>Married-civ-spouse</td>\n",
       "      <td>Exec-managerial</td>\n",
       "      <td>Husband</td>\n",
       "      <td>White</td>\n",
       "      <td>Male</td>\n",
       "      <td>40</td>\n",
       "      <td>United-States</td>\n",
       "      <td>1</td>\n",
       "    </tr>\n",
       "  </tbody>\n",
       "</table>\n",
       "</div>"
      ],
      "text/plain": [
       "   age         workclass  education  education-num      marital-status  \\\n",
       "7   52  Self-emp-not-inc    HS-grad              9  Married-civ-spouse   \n",
       "9   42           Private  Bachelors             13  Married-civ-spouse   \n",
       "\n",
       "        occupation relationship   race gender  hours-per-week        country  \\\n",
       "7  Exec-managerial      Husband  White   Male              45  United-States   \n",
       "9  Exec-managerial      Husband  White   Male              40  United-States   \n",
       "\n",
       "   salary  \n",
       "7       1  \n",
       "9       1  "
      ]
     },
     "execution_count": 22,
     "metadata": {},
     "output_type": "execute_result"
    }
   ],
   "source": [
    "#how many of people whose age above avarge earn more than 50K\n",
    "avg_age = df[df['age']>38]\n",
    "print(len(avg_age[avg_age['salary']==1]))\n",
    "avg_age[avg_age['salary']==1].head(2)"
   ]
  },
  {
   "cell_type": "markdown",
   "id": "31a0d457",
   "metadata": {
    "papermill": {
     "duration": 0.023815,
     "end_time": "2023-05-07T14:03:06.841395",
     "exception": false,
     "start_time": "2023-05-07T14:03:06.817580",
     "status": "completed"
    },
    "tags": []
   },
   "source": [
    "- so there is '5042' people whose age is greater than average age earning more than 50K"
   ]
  },
  {
   "cell_type": "code",
   "execution_count": 23,
   "id": "3fa1bb59",
   "metadata": {
    "execution": {
     "iopub.execute_input": "2023-05-07T14:03:06.891724Z",
     "iopub.status.busy": "2023-05-07T14:03:06.890496Z",
     "iopub.status.idle": "2023-05-07T14:03:06.926584Z",
     "shell.execute_reply": "2023-05-07T14:03:06.925494Z"
    },
    "papermill": {
     "duration": 0.062953,
     "end_time": "2023-05-07T14:03:06.928816",
     "exception": false,
     "start_time": "2023-05-07T14:03:06.865863",
     "status": "completed"
    },
    "tags": []
   },
   "outputs": [
    {
     "name": "stdout",
     "output_type": "stream",
     "text": [
      "8911\n"
     ]
    },
    {
     "data": {
      "text/html": [
       "<div>\n",
       "<style scoped>\n",
       "    .dataframe tbody tr th:only-of-type {\n",
       "        vertical-align: middle;\n",
       "    }\n",
       "\n",
       "    .dataframe tbody tr th {\n",
       "        vertical-align: top;\n",
       "    }\n",
       "\n",
       "    .dataframe thead th {\n",
       "        text-align: right;\n",
       "    }\n",
       "</style>\n",
       "<table border=\"1\" class=\"dataframe\">\n",
       "  <thead>\n",
       "    <tr style=\"text-align: right;\">\n",
       "      <th></th>\n",
       "      <th>age</th>\n",
       "      <th>workclass</th>\n",
       "      <th>education</th>\n",
       "      <th>education-num</th>\n",
       "      <th>marital-status</th>\n",
       "      <th>occupation</th>\n",
       "      <th>relationship</th>\n",
       "      <th>race</th>\n",
       "      <th>gender</th>\n",
       "      <th>hours-per-week</th>\n",
       "      <th>country</th>\n",
       "      <th>salary</th>\n",
       "    </tr>\n",
       "  </thead>\n",
       "  <tbody>\n",
       "    <tr>\n",
       "      <th>0</th>\n",
       "      <td>39</td>\n",
       "      <td>State-gov</td>\n",
       "      <td>Bachelors</td>\n",
       "      <td>13</td>\n",
       "      <td>Never-married</td>\n",
       "      <td>Adm-clerical</td>\n",
       "      <td>Not-in-family</td>\n",
       "      <td>White</td>\n",
       "      <td>Male</td>\n",
       "      <td>40</td>\n",
       "      <td>United-States</td>\n",
       "      <td>0</td>\n",
       "    </tr>\n",
       "    <tr>\n",
       "      <th>1</th>\n",
       "      <td>50</td>\n",
       "      <td>Self-emp-not-inc</td>\n",
       "      <td>Bachelors</td>\n",
       "      <td>13</td>\n",
       "      <td>Married-civ-spouse</td>\n",
       "      <td>Exec-managerial</td>\n",
       "      <td>Husband</td>\n",
       "      <td>White</td>\n",
       "      <td>Male</td>\n",
       "      <td>13</td>\n",
       "      <td>United-States</td>\n",
       "      <td>0</td>\n",
       "    </tr>\n",
       "  </tbody>\n",
       "</table>\n",
       "</div>"
      ],
      "text/plain": [
       "   age         workclass  education  education-num      marital-status  \\\n",
       "0   39         State-gov  Bachelors             13       Never-married   \n",
       "1   50  Self-emp-not-inc  Bachelors             13  Married-civ-spouse   \n",
       "\n",
       "        occupation   relationship   race gender  hours-per-week  \\\n",
       "0     Adm-clerical  Not-in-family  White   Male              40   \n",
       "1  Exec-managerial        Husband  White   Male              13   \n",
       "\n",
       "         country  salary  \n",
       "0  United-States       0  \n",
       "1  United-States       0  "
      ]
     },
     "execution_count": 23,
     "metadata": {},
     "output_type": "execute_result"
    }
   ],
   "source": [
    "#how many of people whose age above avarge earn more than 50K\n",
    "avg_age = df[df['age']>38]\n",
    "print(len(avg_age[avg_age['salary']==0]))\n",
    "avg_age[avg_age['salary']==0].head(2)"
   ]
  },
  {
   "cell_type": "markdown",
   "id": "709fdb24",
   "metadata": {
    "papermill": {
     "duration": 0.023618,
     "end_time": "2023-05-07T14:03:06.976309",
     "exception": false,
     "start_time": "2023-05-07T14:03:06.952691",
     "status": "completed"
    },
    "tags": []
   },
   "source": [
    "- so there is '8911' people whose age is greater than average age earning less than 50K"
   ]
  },
  {
   "cell_type": "code",
   "execution_count": 24,
   "id": "e102a78d",
   "metadata": {
    "execution": {
     "iopub.execute_input": "2023-05-07T14:03:07.024843Z",
     "iopub.status.busy": "2023-05-07T14:03:07.024075Z",
     "iopub.status.idle": "2023-05-07T14:03:07.370683Z",
     "shell.execute_reply": "2023-05-07T14:03:07.369321Z"
    },
    "papermill": {
     "duration": 0.374425,
     "end_time": "2023-05-07T14:03:07.373439",
     "exception": false,
     "start_time": "2023-05-07T14:03:06.999014",
     "status": "completed"
    },
    "tags": []
   },
   "outputs": [
    {
     "data": {
      "text/plain": [
       "<AxesSubplot:xlabel='salary'>"
      ]
     },
     "execution_count": 24,
     "metadata": {},
     "output_type": "execute_result"
    },
    {
     "data": {
      "image/png": "[encoded data removed]",
      "text/plain": [
       "<Figure size 640x480 with 1 Axes>"
      ]
     },
     "metadata": {},
     "output_type": "display_data"
    }
   ],
   "source": [
    "#cheacking distribution of people in workclass according to salary\n",
    "class_salary = pd.crosstab(df['salary'],df['workclass'])\n",
    "class_salary.plot(kind='bar')"
   ]
  },
  {
   "cell_type": "markdown",
   "id": "d9d2598a",
   "metadata": {
    "papermill": {
     "duration": 0.025091,
     "end_time": "2023-05-07T14:03:07.423737",
     "exception": false,
     "start_time": "2023-05-07T14:03:07.398646",
     "status": "completed"
    },
    "tags": []
   },
   "source": [
    "- so we can clearly see that private class people is more than other classes in both type of category of salary"
   ]
  },
  {
   "cell_type": "code",
   "execution_count": 25,
   "id": "4f5ddb13",
   "metadata": {
    "execution": {
     "iopub.execute_input": "2023-05-07T14:03:07.474073Z",
     "iopub.status.busy": "2023-05-07T14:03:07.473677Z",
     "iopub.status.idle": "2023-05-07T14:03:07.882890Z",
     "shell.execute_reply": "2023-05-07T14:03:07.881579Z"
    },
    "papermill": {
     "duration": 0.437982,
     "end_time": "2023-05-07T14:03:07.885779",
     "exception": false,
     "start_time": "2023-05-07T14:03:07.447797",
     "status": "completed"
    },
    "tags": []
   },
   "outputs": [
    {
     "data": {
      "text/plain": [
       "<AxesSubplot:xlabel='education'>"
      ]
     },
     "execution_count": 25,
     "metadata": {},
     "output_type": "execute_result"
    },
    {
     "data": {
      "image/png": "[encoded data removed]",
      "text/plain": [
       "<Figure size 640x480 with 1 Axes>"
      ]
     },
     "metadata": {},
     "output_type": "display_data"
    }
   ],
   "source": [
    "#cheacking distribution of people according to salary\n",
    "salary_education = pd.crosstab(df['education'],df['salary'])\n",
    "salary_education.plot(kind='bar')"
   ]
  },
  {
   "cell_type": "code",
   "execution_count": 26,
   "id": "0e6b8fa4",
   "metadata": {
    "execution": {
     "iopub.execute_input": "2023-05-07T14:03:07.937289Z",
     "iopub.status.busy": "2023-05-07T14:03:07.936716Z",
     "iopub.status.idle": "2023-05-07T14:03:07.946482Z",
     "shell.execute_reply": "2023-05-07T14:03:07.945272Z"
    },
    "papermill": {
     "duration": 0.038246,
     "end_time": "2023-05-07T14:03:07.948754",
     "exception": false,
     "start_time": "2023-05-07T14:03:07.910508",
     "status": "completed"
    },
    "tags": []
   },
   "outputs": [
    {
     "data": {
      "text/plain": [
       "['age', 'education-num']"
      ]
     },
     "execution_count": 26,
     "metadata": {},
     "output_type": "execute_result"
    }
   ],
   "source": [
    "#numeric columns\n",
    "num_col=[]\n",
    "for i in df.columns:\n",
    "    if df[i].dtype=='int64':\n",
    "        num_col.append(i)\n",
    "\n",
    "        \n",
    "num_col = num_col[0:2]\n",
    "num_col "
   ]
  },
  {
   "cell_type": "code",
   "execution_count": 27,
   "id": "177333da",
   "metadata": {
    "execution": {
     "iopub.execute_input": "2023-05-07T14:03:08.000697Z",
     "iopub.status.busy": "2023-05-07T14:03:08.000266Z",
     "iopub.status.idle": "2023-05-07T14:03:08.812939Z",
     "shell.execute_reply": "2023-05-07T14:03:08.811417Z"
    },
    "papermill": {
     "duration": 0.842265,
     "end_time": "2023-05-07T14:03:08.815931",
     "exception": false,
     "start_time": "2023-05-07T14:03:07.973666",
     "status": "completed"
    },
    "tags": []
   },
   "outputs": [
    {
     "name": "stderr",
     "output_type": "stream",
     "text": [
      "/opt/conda/lib/python3.7/site-packages/ipykernel_launcher.py:6: FutureWarning: \n",
      "\n",
      "`shade` is now deprecated in favor of `fill`; setting `fill=True`.\n",
      "This will become an error in seaborn v0.14.0; please update your code.\n",
      "\n",
      "  \n",
      "/opt/conda/lib/python3.7/site-packages/ipykernel_launcher.py:6: FutureWarning: \n",
      "\n",
      "`shade` is now deprecated in favor of `fill`; setting `fill=True`.\n",
      "This will become an error in seaborn v0.14.0; please update your code.\n",
      "\n",
      "  \n"
     ]
    },
    {
     "data": {
      "image/png": "[encoded data removed]",
      "text/plain": [
       "<Figure size 1500x1500 with 2 Axes>"
      ]
     },
     "metadata": {},
     "output_type": "display_data"
    }
   ],
   "source": [
    "plt.figure(figsize=(15, 15))\n",
    "plt.suptitle('Univariate Analysis of Numerical Features', fontsize=20, fontweight='bold', alpha=0.8, y=1.)\n",
    "\n",
    "for i in range(0, len(num_col)):\n",
    "    plt.subplot(5, 3, i+1)\n",
    "    sns.kdeplot(x=df[num_col[i]],shade=True, color='b')\n",
    "    plt.xlabel(num_col[i])\n",
    "    plt.tight_layout()"
   ]
  },
  {
   "cell_type": "code",
   "execution_count": 28,
   "id": "390f9764",
   "metadata": {
    "execution": {
     "iopub.execute_input": "2023-05-07T14:03:08.870757Z",
     "iopub.status.busy": "2023-05-07T14:03:08.870069Z",
     "iopub.status.idle": "2023-05-07T14:03:08.877523Z",
     "shell.execute_reply": "2023-05-07T14:03:08.876253Z"
    },
    "papermill": {
     "duration": 0.037899,
     "end_time": "2023-05-07T14:03:08.880220",
     "exception": false,
     "start_time": "2023-05-07T14:03:08.842321",
     "status": "completed"
    },
    "tags": []
   },
   "outputs": [
    {
     "data": {
      "text/plain": [
       "['workclass',\n",
       " 'education',\n",
       " 'marital-status',\n",
       " 'occupation',\n",
       " 'relationship',\n",
       " 'race',\n",
       " 'gender',\n",
       " 'country']"
      ]
     },
     "execution_count": 28,
     "metadata": {},
     "output_type": "execute_result"
    }
   ],
   "source": [
    "#categorical columns\n",
    "cat_col=[]\n",
    "for i in df.columns:\n",
    "    if df[i].dtype=='object':\n",
    "        cat_col.append(i)\n",
    "        \n",
    "cat_col        "
   ]
  },
  {
   "cell_type": "code",
   "execution_count": 29,
   "id": "e91e912b",
   "metadata": {
    "execution": {
     "iopub.execute_input": "2023-05-07T14:03:08.934319Z",
     "iopub.status.busy": "2023-05-07T14:03:08.933864Z",
     "iopub.status.idle": "2023-05-07T14:03:13.511046Z",
     "shell.execute_reply": "2023-05-07T14:03:13.509470Z"
    },
    "papermill": {
     "duration": 4.60849,
     "end_time": "2023-05-07T14:03:13.514638",
     "exception": false,
     "start_time": "2023-05-07T14:03:08.906148",
     "status": "completed"
    },
    "tags": []
   },
   "outputs": [
    {
     "data": {
      "text/plain": [
       "<Figure size 640x480 with 0 Axes>"
      ]
     },
     "metadata": {},
     "output_type": "display_data"
    },
    {
     "data": {
      "image/png": "[encoded data removed]",
      "text/plain": [
       "<Figure size 4000x5000 with 1 Axes>"
      ]
     },
     "metadata": {},
     "output_type": "display_data"
    },
    {
     "data": {
      "image/png": "[encoded data removed]",
      "text/plain": [
       "<Figure size 4000x5000 with 1 Axes>"
      ]
     },
     "metadata": {},
     "output_type": "display_data"
    },
    {
     "data": {
      "image/png": "[encoded data removed]",
      "text/plain": [
       "<Figure size 4000x5000 with 1 Axes>"
      ]
     },
     "metadata": {},
     "output_type": "display_data"
    },
    {
     "data": {
      "image/png": "[encoded data removed]",
      "text/plain": [
       "<Figure size 4000x5000 with 1 Axes>"
      ]
     },
     "metadata": {},
     "output_type": "display_data"
    },
    {
     "data": {
      "image/png": "[encoded data removed]",
      "text/plain": [
       "<Figure size 4000x5000 with 1 Axes>"
      ]
     },
     "metadata": {},
     "output_type": "display_data"
    },
    {
     "data": {
      "image/png": "[encoded data removed]",
      "text/plain": [
       "<Figure size 4000x5000 with 1 Axes>"
      ]
     },
     "metadata": {},
     "output_type": "display_data"
    },
    {
     "data": {
      "image/png": "[encoded data removed]",
      "text/plain": [
       "<Figure size 4000x5000 with 1 Axes>"
      ]
     },
     "metadata": {},
     "output_type": "display_data"
    },
    {
     "data": {
      "image/png": "[encoded data removed]",
      "text/plain": [
       "<Figure size 4000x5000 with 1 Axes>"
      ]
     },
     "metadata": {},
     "output_type": "display_data"
    }
   ],
   "source": [
    "# categorical columns\n",
    "plt.suptitle('Univariate Analysis of Categorical Features', fontsize=20, fontweight='bold', alpha=0.8, y=1.)\n",
    "for i in range(0, len(cat_col)):\n",
    "    plt.figure(figsize=(40, 50))\n",
    "    plt.subplot(8, 3, i+1)\n",
    "    sns.countplot(x=df[cat_col[i]])\n",
    "    plt.xlabel(cat_col[i])\n",
    "    plt.xticks(rotation=45)\n",
    "    plt.tight_layout()"
   ]
  },
  {
   "cell_type": "markdown",
   "id": "71f435dc",
   "metadata": {
    "papermill": {
     "duration": 0.035214,
     "end_time": "2023-05-07T14:03:13.585141",
     "exception": false,
     "start_time": "2023-05-07T14:03:13.549927",
     "status": "completed"
    },
    "tags": []
   },
   "source": [
    "# Check Multicollinearity in Numerical features¶"
   ]
  },
  {
   "cell_type": "code",
   "execution_count": 30,
   "id": "1e074040",
   "metadata": {
    "execution": {
     "iopub.execute_input": "2023-05-07T14:03:13.656555Z",
     "iopub.status.busy": "2023-05-07T14:03:13.656114Z",
     "iopub.status.idle": "2023-05-07T14:03:13.677447Z",
     "shell.execute_reply": "2023-05-07T14:03:13.676186Z"
    },
    "papermill": {
     "duration": 0.059911,
     "end_time": "2023-05-07T14:03:13.680245",
     "exception": false,
     "start_time": "2023-05-07T14:03:13.620334",
     "status": "completed"
    },
    "tags": []
   },
   "outputs": [
    {
     "data": {
      "text/html": [
       "<div>\n",
       "<style scoped>\n",
       "    .dataframe tbody tr th:only-of-type {\n",
       "        vertical-align: middle;\n",
       "    }\n",
       "\n",
       "    .dataframe tbody tr th {\n",
       "        vertical-align: top;\n",
       "    }\n",
       "\n",
       "    .dataframe thead th {\n",
       "        text-align: right;\n",
       "    }\n",
       "</style>\n",
       "<table border=\"1\" class=\"dataframe\">\n",
       "  <thead>\n",
       "    <tr style=\"text-align: right;\">\n",
       "      <th></th>\n",
       "      <th>education-num</th>\n",
       "      <th>hours-per-week</th>\n",
       "      <th>salary</th>\n",
       "    </tr>\n",
       "  </thead>\n",
       "  <tbody>\n",
       "    <tr>\n",
       "      <th>education-num</th>\n",
       "      <td>1.000000</td>\n",
       "      <td>0.152522</td>\n",
       "      <td>0.335286</td>\n",
       "    </tr>\n",
       "    <tr>\n",
       "      <th>hours-per-week</th>\n",
       "      <td>0.152522</td>\n",
       "      <td>1.000000</td>\n",
       "      <td>0.229480</td>\n",
       "    </tr>\n",
       "    <tr>\n",
       "      <th>salary</th>\n",
       "      <td>0.335286</td>\n",
       "      <td>0.229480</td>\n",
       "      <td>1.000000</td>\n",
       "    </tr>\n",
       "  </tbody>\n",
       "</table>\n",
       "</div>"
      ],
      "text/plain": [
       "                education-num  hours-per-week    salary\n",
       "education-num        1.000000        0.152522  0.335286\n",
       "hours-per-week       0.152522        1.000000  0.229480\n",
       "salary               0.335286        0.229480  1.000000"
      ]
     },
     "execution_count": 30,
     "metadata": {},
     "output_type": "execute_result"
    }
   ],
   "source": [
    "df[(list(df.columns)[1:])].corr()"
   ]
  },
  {
   "cell_type": "code",
   "execution_count": 31,
   "id": "17e3ab6c",
   "metadata": {
    "execution": {
     "iopub.execute_input": "2023-05-07T14:03:13.750720Z",
     "iopub.status.busy": "2023-05-07T14:03:13.750256Z",
     "iopub.status.idle": "2023-05-07T14:03:14.124400Z",
     "shell.execute_reply": "2023-05-07T14:03:14.122761Z"
    },
    "papermill": {
     "duration": 0.413293,
     "end_time": "2023-05-07T14:03:14.127764",
     "exception": false,
     "start_time": "2023-05-07T14:03:13.714471",
     "status": "completed"
    },
    "tags": []
   },
   "outputs": [
    {
     "data": {
      "image/png": "[encoded data removed]",
      "text/plain": [
       "<Figure size 1500x1000 with 2 Axes>"
      ]
     },
     "metadata": {},
     "output_type": "display_data"
    }
   ],
   "source": [
    "plt.figure(figsize = (15,10))\n",
    "sns.heatmap(df.corr(), cmap=\"CMRmap\", annot=True)\n",
    "plt.show()"
   ]
  },
  {
   "cell_type": "markdown",
   "id": "df82982f",
   "metadata": {
    "papermill": {
     "duration": 0.03499,
     "end_time": "2023-05-07T14:03:14.200628",
     "exception": false,
     "start_time": "2023-05-07T14:03:14.165638",
     "status": "completed"
    },
    "tags": []
   },
   "source": [
    "- so their is no multicollinearity in numeric feature"
   ]
  },
  {
   "cell_type": "markdown",
   "id": "61d229a7",
   "metadata": {
    "papermill": {
     "duration": 0.036116,
     "end_time": "2023-05-07T14:03:14.273760",
     "exception": false,
     "start_time": "2023-05-07T14:03:14.237644",
     "status": "completed"
    },
    "tags": []
   },
   "source": [
    "# Check Multicollinearity for Categorical features\n",
    "- A chi-squared test (also chi-square or χ2 test) is a statistical hypothesis test that is valid to perform when the test statistic is chi-squared distributed under the null hypothesis, specifically Pearson's chi-squared test\n",
    "\n",
    "- A chi-square statistic is one way to show a relationship between two categorical variables.\n",
    "\n",
    "- Here we test correlation of Categorical columns with Target column i.e Salary"
   ]
  },
  {
   "cell_type": "code",
   "execution_count": 32,
   "id": "e35992b1",
   "metadata": {
    "execution": {
     "iopub.execute_input": "2023-05-07T14:03:14.348239Z",
     "iopub.status.busy": "2023-05-07T14:03:14.347722Z",
     "iopub.status.idle": "2023-05-07T14:03:14.508089Z",
     "shell.execute_reply": "2023-05-07T14:03:14.506938Z"
    },
    "papermill": {
     "duration": 0.201537,
     "end_time": "2023-05-07T14:03:14.510726",
     "exception": false,
     "start_time": "2023-05-07T14:03:14.309189",
     "status": "completed"
    },
    "tags": []
   },
   "outputs": [
    {
     "data": {
      "text/html": [
       "<div>\n",
       "<style scoped>\n",
       "    .dataframe tbody tr th:only-of-type {\n",
       "        vertical-align: middle;\n",
       "    }\n",
       "\n",
       "    .dataframe tbody tr th {\n",
       "        vertical-align: top;\n",
       "    }\n",
       "\n",
       "    .dataframe thead th {\n",
       "        text-align: right;\n",
       "    }\n",
       "</style>\n",
       "<table border=\"1\" class=\"dataframe\">\n",
       "  <thead>\n",
       "    <tr style=\"text-align: right;\">\n",
       "      <th></th>\n",
       "      <th>Column</th>\n",
       "      <th>Hypothesis Result</th>\n",
       "    </tr>\n",
       "  </thead>\n",
       "  <tbody>\n",
       "    <tr>\n",
       "      <th>0</th>\n",
       "      <td>workclass</td>\n",
       "      <td>Reject Null Hypothesis</td>\n",
       "    </tr>\n",
       "    <tr>\n",
       "      <th>1</th>\n",
       "      <td>education</td>\n",
       "      <td>Reject Null Hypothesis</td>\n",
       "    </tr>\n",
       "    <tr>\n",
       "      <th>2</th>\n",
       "      <td>marital-status</td>\n",
       "      <td>Reject Null Hypothesis</td>\n",
       "    </tr>\n",
       "    <tr>\n",
       "      <th>3</th>\n",
       "      <td>occupation</td>\n",
       "      <td>Reject Null Hypothesis</td>\n",
       "    </tr>\n",
       "    <tr>\n",
       "      <th>4</th>\n",
       "      <td>relationship</td>\n",
       "      <td>Reject Null Hypothesis</td>\n",
       "    </tr>\n",
       "    <tr>\n",
       "      <th>5</th>\n",
       "      <td>race</td>\n",
       "      <td>Reject Null Hypothesis</td>\n",
       "    </tr>\n",
       "    <tr>\n",
       "      <th>6</th>\n",
       "      <td>gender</td>\n",
       "      <td>Reject Null Hypothesis</td>\n",
       "    </tr>\n",
       "    <tr>\n",
       "      <th>7</th>\n",
       "      <td>country</td>\n",
       "      <td>Reject Null Hypothesis</td>\n",
       "    </tr>\n",
       "  </tbody>\n",
       "</table>\n",
       "</div>"
      ],
      "text/plain": [
       "           Column       Hypothesis Result\n",
       "0       workclass  Reject Null Hypothesis\n",
       "1       education  Reject Null Hypothesis\n",
       "2  marital-status  Reject Null Hypothesis\n",
       "3      occupation  Reject Null Hypothesis\n",
       "4    relationship  Reject Null Hypothesis\n",
       "5            race  Reject Null Hypothesis\n",
       "6          gender  Reject Null Hypothesis\n",
       "7         country  Reject Null Hypothesis"
      ]
     },
     "execution_count": 32,
     "metadata": {},
     "output_type": "execute_result"
    }
   ],
   "source": [
    "from scipy.stats import chi2_contingency\n",
    "chi2_test = []\n",
    "for feature in df[cat_col]:\n",
    "    if chi2_contingency(pd.crosstab(df['salary'], df[feature]))[1] < 0.05:\n",
    "        chi2_test.append('Reject Null Hypothesis')\n",
    "    else:\n",
    "        chi2_test.append('Fail to Reject Null Hypothesis')\n",
    "result = pd.DataFrame(data=[cat_col, chi2_test]).T\n",
    "result.columns = ['Column', 'Hypothesis Result']\n",
    "result"
   ]
  },
  {
   "cell_type": "code",
   "execution_count": 33,
   "id": "c240ed03",
   "metadata": {
    "execution": {
     "iopub.execute_input": "2023-05-07T14:03:14.585028Z",
     "iopub.status.busy": "2023-05-07T14:03:14.583752Z",
     "iopub.status.idle": "2023-05-07T14:03:16.068559Z",
     "shell.execute_reply": "2023-05-07T14:03:16.067090Z"
    },
    "papermill": {
     "duration": 1.524724,
     "end_time": "2023-05-07T14:03:16.072140",
     "exception": false,
     "start_time": "2023-05-07T14:03:14.547416",
     "status": "completed"
    },
    "tags": []
   },
   "outputs": [
    {
     "data": {
      "text/plain": [
       "<seaborn.axisgrid.PairGrid at 0x7ba5256b4610>"
      ]
     },
     "execution_count": 33,
     "metadata": {},
     "output_type": "execute_result"
    },
    {
     "data": {
      "image/png": "[encoded data removed]",
      "text/plain": [
       "<Figure size 500x500 with 6 Axes>"
      ]
     },
     "metadata": {},
     "output_type": "display_data"
    }
   ],
   "source": [
    "sns.pairplot(df[num_col])"
   ]
  },
  {
   "cell_type": "markdown",
   "id": "75a826ce",
   "metadata": {
    "papermill": {
     "duration": 0.03657,
     "end_time": "2023-05-07T14:03:16.146277",
     "exception": false,
     "start_time": "2023-05-07T14:03:16.109707",
     "status": "completed"
    },
    "tags": []
   },
   "source": [
    "# Checking outliers"
   ]
  },
  {
   "cell_type": "code",
   "execution_count": 34,
   "id": "71737a45",
   "metadata": {
    "execution": {
     "iopub.execute_input": "2023-05-07T14:03:16.226560Z",
     "iopub.status.busy": "2023-05-07T14:03:16.225240Z",
     "iopub.status.idle": "2023-05-07T14:03:16.566535Z",
     "shell.execute_reply": "2023-05-07T14:03:16.565286Z"
    },
    "papermill": {
     "duration": 0.386319,
     "end_time": "2023-05-07T14:03:16.569795",
     "exception": false,
     "start_time": "2023-05-07T14:03:16.183476",
     "status": "completed"
    },
    "tags": []
   },
   "outputs": [
    {
     "data": {
      "image/png": "[encoded data removed]",
      "text/plain": [
       "<Figure size 1000x4000 with 2 Axes>"
      ]
     },
     "metadata": {},
     "output_type": "display_data"
    }
   ],
   "source": [
    "plt.figure(figsize=(10,40))\n",
    "for i in range(0,len(num_col)):\n",
    "    plt.subplot(5, 2, i+1)\n",
    "    sns.boxplot(data=df[num_col[i]])\n",
    "    plt.xlabel(num_col[i])"
   ]
  },
  {
   "cell_type": "markdown",
   "id": "cbd39f11",
   "metadata": {
    "papermill": {
     "duration": 0.036713,
     "end_time": "2023-05-07T14:03:16.643677",
     "exception": false,
     "start_time": "2023-05-07T14:03:16.606964",
     "status": "completed"
    },
    "tags": []
   },
   "source": [
    "- so we can see that to many outliers are there so we have to treat them before going to model building"
   ]
  },
  {
   "cell_type": "markdown",
   "id": "077b6c8a",
   "metadata": {
    "papermill": {
     "duration": 0.037355,
     "end_time": "2023-05-07T14:03:16.718233",
     "exception": false,
     "start_time": "2023-05-07T14:03:16.680878",
     "status": "completed"
    },
    "tags": []
   },
   "source": [
    "# Treating outliers"
   ]
  },
  {
   "cell_type": "code",
   "execution_count": 35,
   "id": "e858bbb1",
   "metadata": {
    "execution": {
     "iopub.execute_input": "2023-05-07T14:03:16.793743Z",
     "iopub.status.busy": "2023-05-07T14:03:16.793295Z",
     "iopub.status.idle": "2023-05-07T14:03:16.802048Z",
     "shell.execute_reply": "2023-05-07T14:03:16.800353Z"
    },
    "papermill": {
     "duration": 0.050034,
     "end_time": "2023-05-07T14:03:16.804686",
     "exception": false,
     "start_time": "2023-05-07T14:03:16.754652",
     "status": "completed"
    },
    "tags": []
   },
   "outputs": [],
   "source": [
    "# Function to detect outliers\n",
    "def outlier_thresholds(dataframe, variable):\n",
    "    quartile1 = dataframe[variable].quantile(0.25)\n",
    "    quartile3 = dataframe[variable].quantile(0.75)\n",
    "    interquantile_range = quartile3 - quartile1\n",
    "    up_limit = quartile3 + 1.5 * interquantile_range\n",
    "    low_limit = quartile1 - 1.5 * interquantile_range\n",
    "    return low_limit, up_limit\n",
    "\n",
    "\n",
    "## function to remove outliers\n",
    "def replace_with_thresholds(dataframe, numeric_columns):\n",
    "    for variable in numeric_columns:\n",
    "        low_limit, up_limit = outlier_thresholds(dataframe, variable)\n",
    "        dataframe.loc[(dataframe[variable] < low_limit), variable] = dataframe[variable].mean()\n",
    "        dataframe.loc[(dataframe[variable] > up_limit), variable] = dataframe[variable].mean()\n"
   ]
  },
  {
   "cell_type": "code",
   "execution_count": 36,
   "id": "7eafbb46",
   "metadata": {
    "execution": {
     "iopub.execute_input": "2023-05-07T14:03:16.880367Z",
     "iopub.status.busy": "2023-05-07T14:03:16.879865Z",
     "iopub.status.idle": "2023-05-07T14:03:16.896787Z",
     "shell.execute_reply": "2023-05-07T14:03:16.895789Z"
    },
    "papermill": {
     "duration": 0.05868,
     "end_time": "2023-05-07T14:03:16.899367",
     "exception": false,
     "start_time": "2023-05-07T14:03:16.840687",
     "status": "completed"
    },
    "tags": []
   },
   "outputs": [],
   "source": [
    "replace_with_thresholds(df,num_col)"
   ]
  },
  {
   "cell_type": "code",
   "execution_count": 37,
   "id": "eba7f944",
   "metadata": {
    "execution": {
     "iopub.execute_input": "2023-05-07T14:03:16.974337Z",
     "iopub.status.busy": "2023-05-07T14:03:16.973808Z",
     "iopub.status.idle": "2023-05-07T14:03:17.313939Z",
     "shell.execute_reply": "2023-05-07T14:03:17.312407Z"
    },
    "papermill": {
     "duration": 0.380937,
     "end_time": "2023-05-07T14:03:17.316938",
     "exception": false,
     "start_time": "2023-05-07T14:03:16.936001",
     "status": "completed"
    },
    "tags": []
   },
   "outputs": [
    {
     "data": {
      "image/png": "[encoded data removed]",
      "text/plain": [
       "<Figure size 1000x4000 with 2 Axes>"
      ]
     },
     "metadata": {},
     "output_type": "display_data"
    }
   ],
   "source": [
    "plt.figure(figsize=(10,40))\n",
    "for i in range(0,len(num_col)):\n",
    "    plt.subplot(5, 2, i+1)\n",
    "    sns.boxplot(data=df[num_col[i]])\n",
    "    plt.xlabel(num_col[i])"
   ]
  },
  {
   "cell_type": "markdown",
   "id": "fa62af4c",
   "metadata": {
    "papermill": {
     "duration": 0.037932,
     "end_time": "2023-05-07T14:03:17.392159",
     "exception": false,
     "start_time": "2023-05-07T14:03:17.354227",
     "status": "completed"
    },
    "tags": []
   },
   "source": [
    "creating a new copy of dataset(df) and convert it into numerical with the help of labelEncoder"
   ]
  },
  {
   "cell_type": "code",
   "execution_count": 38,
   "id": "6220b9c6",
   "metadata": {
    "execution": {
     "iopub.execute_input": "2023-05-07T14:03:17.469196Z",
     "iopub.status.busy": "2023-05-07T14:03:17.468747Z",
     "iopub.status.idle": "2023-05-07T14:03:17.481861Z",
     "shell.execute_reply": "2023-05-07T14:03:17.480578Z"
    },
    "papermill": {
     "duration": 0.054451,
     "end_time": "2023-05-07T14:03:17.484463",
     "exception": false,
     "start_time": "2023-05-07T14:03:17.430012",
     "status": "completed"
    },
    "tags": []
   },
   "outputs": [],
   "source": [
    "new_df = df.copy()"
   ]
  },
  {
   "cell_type": "code",
   "execution_count": 39,
   "id": "aa38e73b",
   "metadata": {
    "execution": {
     "iopub.execute_input": "2023-05-07T14:03:17.560580Z",
     "iopub.status.busy": "2023-05-07T14:03:17.559694Z",
     "iopub.status.idle": "2023-05-07T14:03:17.580833Z",
     "shell.execute_reply": "2023-05-07T14:03:17.579624Z"
    },
    "papermill": {
     "duration": 0.062292,
     "end_time": "2023-05-07T14:03:17.583212",
     "exception": false,
     "start_time": "2023-05-07T14:03:17.520920",
     "status": "completed"
    },
    "tags": []
   },
   "outputs": [
    {
     "data": {
      "text/html": [
       "<div>\n",
       "<style scoped>\n",
       "    .dataframe tbody tr th:only-of-type {\n",
       "        vertical-align: middle;\n",
       "    }\n",
       "\n",
       "    .dataframe tbody tr th {\n",
       "        vertical-align: top;\n",
       "    }\n",
       "\n",
       "    .dataframe thead th {\n",
       "        text-align: right;\n",
       "    }\n",
       "</style>\n",
       "<table border=\"1\" class=\"dataframe\">\n",
       "  <thead>\n",
       "    <tr style=\"text-align: right;\">\n",
       "      <th></th>\n",
       "      <th>age</th>\n",
       "      <th>workclass</th>\n",
       "      <th>education</th>\n",
       "      <th>education-num</th>\n",
       "      <th>marital-status</th>\n",
       "      <th>occupation</th>\n",
       "      <th>relationship</th>\n",
       "      <th>race</th>\n",
       "      <th>gender</th>\n",
       "      <th>hours-per-week</th>\n",
       "      <th>country</th>\n",
       "      <th>salary</th>\n",
       "    </tr>\n",
       "  </thead>\n",
       "  <tbody>\n",
       "    <tr>\n",
       "      <th>0</th>\n",
       "      <td>39.0</td>\n",
       "      <td>State-gov</td>\n",
       "      <td>Bachelors</td>\n",
       "      <td>13.0</td>\n",
       "      <td>Never-married</td>\n",
       "      <td>Adm-clerical</td>\n",
       "      <td>Not-in-family</td>\n",
       "      <td>White</td>\n",
       "      <td>Male</td>\n",
       "      <td>40</td>\n",
       "      <td>United-States</td>\n",
       "      <td>0</td>\n",
       "    </tr>\n",
       "    <tr>\n",
       "      <th>1</th>\n",
       "      <td>50.0</td>\n",
       "      <td>Self-emp-not-inc</td>\n",
       "      <td>Bachelors</td>\n",
       "      <td>13.0</td>\n",
       "      <td>Married-civ-spouse</td>\n",
       "      <td>Exec-managerial</td>\n",
       "      <td>Husband</td>\n",
       "      <td>White</td>\n",
       "      <td>Male</td>\n",
       "      <td>13</td>\n",
       "      <td>United-States</td>\n",
       "      <td>0</td>\n",
       "    </tr>\n",
       "    <tr>\n",
       "      <th>2</th>\n",
       "      <td>38.0</td>\n",
       "      <td>Private</td>\n",
       "      <td>HS-grad</td>\n",
       "      <td>9.0</td>\n",
       "      <td>Divorced</td>\n",
       "      <td>Handlers-cleaners</td>\n",
       "      <td>Not-in-family</td>\n",
       "      <td>White</td>\n",
       "      <td>Male</td>\n",
       "      <td>40</td>\n",
       "      <td>United-States</td>\n",
       "      <td>0</td>\n",
       "    </tr>\n",
       "    <tr>\n",
       "      <th>3</th>\n",
       "      <td>53.0</td>\n",
       "      <td>Private</td>\n",
       "      <td>11th</td>\n",
       "      <td>7.0</td>\n",
       "      <td>Married-civ-spouse</td>\n",
       "      <td>Handlers-cleaners</td>\n",
       "      <td>Husband</td>\n",
       "      <td>Black</td>\n",
       "      <td>Male</td>\n",
       "      <td>40</td>\n",
       "      <td>United-States</td>\n",
       "      <td>0</td>\n",
       "    </tr>\n",
       "    <tr>\n",
       "      <th>4</th>\n",
       "      <td>28.0</td>\n",
       "      <td>Private</td>\n",
       "      <td>Bachelors</td>\n",
       "      <td>13.0</td>\n",
       "      <td>Married-civ-spouse</td>\n",
       "      <td>Prof-specialty</td>\n",
       "      <td>Wife</td>\n",
       "      <td>Black</td>\n",
       "      <td>Female</td>\n",
       "      <td>40</td>\n",
       "      <td>Cuba</td>\n",
       "      <td>0</td>\n",
       "    </tr>\n",
       "  </tbody>\n",
       "</table>\n",
       "</div>"
      ],
      "text/plain": [
       "    age         workclass  education  education-num      marital-status  \\\n",
       "0  39.0         State-gov  Bachelors           13.0       Never-married   \n",
       "1  50.0  Self-emp-not-inc  Bachelors           13.0  Married-civ-spouse   \n",
       "2  38.0           Private    HS-grad            9.0            Divorced   \n",
       "3  53.0           Private       11th            7.0  Married-civ-spouse   \n",
       "4  28.0           Private  Bachelors           13.0  Married-civ-spouse   \n",
       "\n",
       "          occupation   relationship   race  gender  hours-per-week  \\\n",
       "0       Adm-clerical  Not-in-family  White    Male              40   \n",
       "1    Exec-managerial        Husband  White    Male              13   \n",
       "2  Handlers-cleaners  Not-in-family  White    Male              40   \n",
       "3  Handlers-cleaners        Husband  Black    Male              40   \n",
       "4     Prof-specialty           Wife  Black  Female              40   \n",
       "\n",
       "         country  salary  \n",
       "0  United-States       0  \n",
       "1  United-States       0  \n",
       "2  United-States       0  \n",
       "3  United-States       0  \n",
       "4           Cuba       0  "
      ]
     },
     "execution_count": 39,
     "metadata": {},
     "output_type": "execute_result"
    }
   ],
   "source": [
    "new_df.head()"
   ]
  },
  {
   "cell_type": "code",
   "execution_count": 40,
   "id": "a614200e",
   "metadata": {
    "execution": {
     "iopub.execute_input": "2023-05-07T14:03:17.661935Z",
     "iopub.status.busy": "2023-05-07T14:03:17.660257Z",
     "iopub.status.idle": "2023-05-07T14:03:17.767611Z",
     "shell.execute_reply": "2023-05-07T14:03:17.766175Z"
    },
    "papermill": {
     "duration": 0.150263,
     "end_time": "2023-05-07T14:03:17.770369",
     "exception": false,
     "start_time": "2023-05-07T14:03:17.620106",
     "status": "completed"
    },
    "tags": []
   },
   "outputs": [],
   "source": [
    "from sklearn.preprocessing import OrdinalEncoder\n",
    "encoder = OrdinalEncoder()\n",
    "#data.drop('salary',axis=1,inplace=True)\n",
    "\n",
    "from sklearn.compose import make_column_selector as selector\n",
    "\n",
    "categorical_columns_selector = selector(dtype_include=object)\n",
    "categorical_columns = categorical_columns_selector(data)\n",
    "data_categorical = data[categorical_columns]\n",
    "data_categorical.head()\n",
    "\n",
    "\n",
    "data_encoded = encoder.fit_transform(data_categorical)\n",
    "\n",
    "a = pd.DataFrame(data_encoded,columns=['workclass', 'education', 'marital-status', 'occupation',\n",
    "       'relationship', 'race', 'sex', 'country','salary'])\n",
    "b = data[['age','hours-per-week']]\n",
    "#c=data['hours-per-week']\n",
    "new_df = pd.concat([b,a],axis=1)"
   ]
  },
  {
   "cell_type": "code",
   "execution_count": 41,
   "id": "f3fea25d",
   "metadata": {
    "execution": {
     "iopub.execute_input": "2023-05-07T14:03:17.847992Z",
     "iopub.status.busy": "2023-05-07T14:03:17.847430Z",
     "iopub.status.idle": "2023-05-07T14:03:17.877513Z",
     "shell.execute_reply": "2023-05-07T14:03:17.876170Z"
    },
    "papermill": {
     "duration": 0.072058,
     "end_time": "2023-05-07T14:03:17.880315",
     "exception": false,
     "start_time": "2023-05-07T14:03:17.808257",
     "status": "completed"
    },
    "tags": []
   },
   "outputs": [
    {
     "data": {
      "text/html": [
       "<div>\n",
       "<style scoped>\n",
       "    .dataframe tbody tr th:only-of-type {\n",
       "        vertical-align: middle;\n",
       "    }\n",
       "\n",
       "    .dataframe tbody tr th {\n",
       "        vertical-align: top;\n",
       "    }\n",
       "\n",
       "    .dataframe thead th {\n",
       "        text-align: right;\n",
       "    }\n",
       "</style>\n",
       "<table border=\"1\" class=\"dataframe\">\n",
       "  <thead>\n",
       "    <tr style=\"text-align: right;\">\n",
       "      <th></th>\n",
       "      <th>age</th>\n",
       "      <th>hours-per-week</th>\n",
       "      <th>workclass</th>\n",
       "      <th>education</th>\n",
       "      <th>marital-status</th>\n",
       "      <th>occupation</th>\n",
       "      <th>relationship</th>\n",
       "      <th>race</th>\n",
       "      <th>sex</th>\n",
       "      <th>country</th>\n",
       "      <th>salary</th>\n",
       "    </tr>\n",
       "  </thead>\n",
       "  <tbody>\n",
       "    <tr>\n",
       "      <th>0</th>\n",
       "      <td>39</td>\n",
       "      <td>40</td>\n",
       "      <td>7.0</td>\n",
       "      <td>9.0</td>\n",
       "      <td>4.0</td>\n",
       "      <td>1.0</td>\n",
       "      <td>1.0</td>\n",
       "      <td>4.0</td>\n",
       "      <td>1.0</td>\n",
       "      <td>39.0</td>\n",
       "      <td>0.0</td>\n",
       "    </tr>\n",
       "    <tr>\n",
       "      <th>1</th>\n",
       "      <td>50</td>\n",
       "      <td>13</td>\n",
       "      <td>6.0</td>\n",
       "      <td>9.0</td>\n",
       "      <td>2.0</td>\n",
       "      <td>4.0</td>\n",
       "      <td>0.0</td>\n",
       "      <td>4.0</td>\n",
       "      <td>1.0</td>\n",
       "      <td>39.0</td>\n",
       "      <td>0.0</td>\n",
       "    </tr>\n",
       "    <tr>\n",
       "      <th>2</th>\n",
       "      <td>38</td>\n",
       "      <td>40</td>\n",
       "      <td>4.0</td>\n",
       "      <td>11.0</td>\n",
       "      <td>0.0</td>\n",
       "      <td>6.0</td>\n",
       "      <td>1.0</td>\n",
       "      <td>4.0</td>\n",
       "      <td>1.0</td>\n",
       "      <td>39.0</td>\n",
       "      <td>0.0</td>\n",
       "    </tr>\n",
       "    <tr>\n",
       "      <th>3</th>\n",
       "      <td>53</td>\n",
       "      <td>40</td>\n",
       "      <td>4.0</td>\n",
       "      <td>1.0</td>\n",
       "      <td>2.0</td>\n",
       "      <td>6.0</td>\n",
       "      <td>0.0</td>\n",
       "      <td>2.0</td>\n",
       "      <td>1.0</td>\n",
       "      <td>39.0</td>\n",
       "      <td>0.0</td>\n",
       "    </tr>\n",
       "    <tr>\n",
       "      <th>4</th>\n",
       "      <td>28</td>\n",
       "      <td>40</td>\n",
       "      <td>4.0</td>\n",
       "      <td>9.0</td>\n",
       "      <td>2.0</td>\n",
       "      <td>10.0</td>\n",
       "      <td>5.0</td>\n",
       "      <td>2.0</td>\n",
       "      <td>0.0</td>\n",
       "      <td>5.0</td>\n",
       "      <td>0.0</td>\n",
       "    </tr>\n",
       "    <tr>\n",
       "      <th>...</th>\n",
       "      <td>...</td>\n",
       "      <td>...</td>\n",
       "      <td>...</td>\n",
       "      <td>...</td>\n",
       "      <td>...</td>\n",
       "      <td>...</td>\n",
       "      <td>...</td>\n",
       "      <td>...</td>\n",
       "      <td>...</td>\n",
       "      <td>...</td>\n",
       "      <td>...</td>\n",
       "    </tr>\n",
       "    <tr>\n",
       "      <th>32556</th>\n",
       "      <td>27</td>\n",
       "      <td>38</td>\n",
       "      <td>4.0</td>\n",
       "      <td>7.0</td>\n",
       "      <td>2.0</td>\n",
       "      <td>13.0</td>\n",
       "      <td>5.0</td>\n",
       "      <td>4.0</td>\n",
       "      <td>0.0</td>\n",
       "      <td>39.0</td>\n",
       "      <td>0.0</td>\n",
       "    </tr>\n",
       "    <tr>\n",
       "      <th>32557</th>\n",
       "      <td>40</td>\n",
       "      <td>40</td>\n",
       "      <td>4.0</td>\n",
       "      <td>11.0</td>\n",
       "      <td>2.0</td>\n",
       "      <td>7.0</td>\n",
       "      <td>0.0</td>\n",
       "      <td>4.0</td>\n",
       "      <td>1.0</td>\n",
       "      <td>39.0</td>\n",
       "      <td>1.0</td>\n",
       "    </tr>\n",
       "    <tr>\n",
       "      <th>32558</th>\n",
       "      <td>58</td>\n",
       "      <td>40</td>\n",
       "      <td>4.0</td>\n",
       "      <td>11.0</td>\n",
       "      <td>6.0</td>\n",
       "      <td>1.0</td>\n",
       "      <td>4.0</td>\n",
       "      <td>4.0</td>\n",
       "      <td>0.0</td>\n",
       "      <td>39.0</td>\n",
       "      <td>0.0</td>\n",
       "    </tr>\n",
       "    <tr>\n",
       "      <th>32559</th>\n",
       "      <td>22</td>\n",
       "      <td>20</td>\n",
       "      <td>4.0</td>\n",
       "      <td>11.0</td>\n",
       "      <td>4.0</td>\n",
       "      <td>1.0</td>\n",
       "      <td>3.0</td>\n",
       "      <td>4.0</td>\n",
       "      <td>1.0</td>\n",
       "      <td>39.0</td>\n",
       "      <td>0.0</td>\n",
       "    </tr>\n",
       "    <tr>\n",
       "      <th>32560</th>\n",
       "      <td>52</td>\n",
       "      <td>40</td>\n",
       "      <td>5.0</td>\n",
       "      <td>11.0</td>\n",
       "      <td>2.0</td>\n",
       "      <td>4.0</td>\n",
       "      <td>5.0</td>\n",
       "      <td>4.0</td>\n",
       "      <td>0.0</td>\n",
       "      <td>39.0</td>\n",
       "      <td>1.0</td>\n",
       "    </tr>\n",
       "  </tbody>\n",
       "</table>\n",
       "<p>32561 rows × 11 columns</p>\n",
       "</div>"
      ],
      "text/plain": [
       "       age  hours-per-week  workclass  education  marital-status  occupation  \\\n",
       "0       39              40        7.0        9.0             4.0         1.0   \n",
       "1       50              13        6.0        9.0             2.0         4.0   \n",
       "2       38              40        4.0       11.0             0.0         6.0   \n",
       "3       53              40        4.0        1.0             2.0         6.0   \n",
       "4       28              40        4.0        9.0             2.0        10.0   \n",
       "...    ...             ...        ...        ...             ...         ...   \n",
       "32556   27              38        4.0        7.0             2.0        13.0   \n",
       "32557   40              40        4.0       11.0             2.0         7.0   \n",
       "32558   58              40        4.0       11.0             6.0         1.0   \n",
       "32559   22              20        4.0       11.0             4.0         1.0   \n",
       "32560   52              40        5.0       11.0             2.0         4.0   \n",
       "\n",
       "       relationship  race  sex  country  salary  \n",
       "0               1.0   4.0  1.0     39.0     0.0  \n",
       "1               0.0   4.0  1.0     39.0     0.0  \n",
       "2               1.0   4.0  1.0     39.0     0.0  \n",
       "3               0.0   2.0  1.0     39.0     0.0  \n",
       "4               5.0   2.0  0.0      5.0     0.0  \n",
       "...             ...   ...  ...      ...     ...  \n",
       "32556           5.0   4.0  0.0     39.0     0.0  \n",
       "32557           0.0   4.0  1.0     39.0     1.0  \n",
       "32558           4.0   4.0  0.0     39.0     0.0  \n",
       "32559           3.0   4.0  1.0     39.0     0.0  \n",
       "32560           5.0   4.0  0.0     39.0     1.0  \n",
       "\n",
       "[32561 rows x 11 columns]"
      ]
     },
     "execution_count": 41,
     "metadata": {},
     "output_type": "execute_result"
    }
   ],
   "source": [
    "new_df"
   ]
  },
  {
   "cell_type": "code",
   "execution_count": 42,
   "id": "7f254ede",
   "metadata": {
    "execution": {
     "iopub.execute_input": "2023-05-07T14:03:17.958170Z",
     "iopub.status.busy": "2023-05-07T14:03:17.957733Z",
     "iopub.status.idle": "2023-05-07T14:03:17.962659Z",
     "shell.execute_reply": "2023-05-07T14:03:17.961717Z"
    },
    "papermill": {
     "duration": 0.045988,
     "end_time": "2023-05-07T14:03:17.964767",
     "exception": false,
     "start_time": "2023-05-07T14:03:17.918779",
     "status": "completed"
    },
    "tags": []
   },
   "outputs": [],
   "source": [
    "#from sklearn import preprocessing\n",
    "#label_encoder = preprocessing.LabelEncoder()\n",
    "\n",
    "\n",
    "#for i in cat_col:\n",
    "    #new_df[i]= label_encoder.fit_transform(new_df[i])"
   ]
  },
  {
   "cell_type": "markdown",
   "id": "f1376ac8",
   "metadata": {
    "papermill": {
     "duration": 0.037858,
     "end_time": "2023-05-07T14:03:18.040667",
     "exception": false,
     "start_time": "2023-05-07T14:03:18.002809",
     "status": "completed"
    },
    "tags": []
   },
   "source": [
    "# Now we are good to go for model building"
   ]
  },
  {
   "cell_type": "markdown",
   "id": "0726d719",
   "metadata": {
    "papermill": {
     "duration": 0.037311,
     "end_time": "2023-05-07T14:03:18.116109",
     "exception": false,
     "start_time": "2023-05-07T14:03:18.078798",
     "status": "completed"
    },
    "tags": []
   },
   "source": [
    "First we will drop some columns which will not use in model"
   ]
  },
  {
   "cell_type": "code",
   "execution_count": 43,
   "id": "aa9e77b0",
   "metadata": {
    "execution": {
     "iopub.execute_input": "2023-05-07T14:03:18.194567Z",
     "iopub.status.busy": "2023-05-07T14:03:18.194089Z",
     "iopub.status.idle": "2023-05-07T14:03:18.199070Z",
     "shell.execute_reply": "2023-05-07T14:03:18.197730Z"
    },
    "papermill": {
     "duration": 0.046832,
     "end_time": "2023-05-07T14:03:18.201404",
     "exception": false,
     "start_time": "2023-05-07T14:03:18.154572",
     "status": "completed"
    },
    "tags": []
   },
   "outputs": [],
   "source": [
    "#new_df.drop(['fnlwgt','occupation'],axis=1,inplace=True)"
   ]
  },
  {
   "cell_type": "code",
   "execution_count": 44,
   "id": "f4ea5a52",
   "metadata": {
    "execution": {
     "iopub.execute_input": "2023-05-07T14:03:18.280768Z",
     "iopub.status.busy": "2023-05-07T14:03:18.279991Z",
     "iopub.status.idle": "2023-05-07T14:03:18.286615Z",
     "shell.execute_reply": "2023-05-07T14:03:18.285353Z"
    },
    "papermill": {
     "duration": 0.049618,
     "end_time": "2023-05-07T14:03:18.289016",
     "exception": false,
     "start_time": "2023-05-07T14:03:18.239398",
     "status": "completed"
    },
    "tags": []
   },
   "outputs": [
    {
     "data": {
      "text/plain": [
       "(32561, 11)"
      ]
     },
     "execution_count": 44,
     "metadata": {},
     "output_type": "execute_result"
    }
   ],
   "source": [
    "new_df.shape"
   ]
  },
  {
   "cell_type": "markdown",
   "id": "bbc8b173",
   "metadata": {
    "papermill": {
     "duration": 0.038786,
     "end_time": "2023-05-07T14:03:18.367417",
     "exception": false,
     "start_time": "2023-05-07T14:03:18.328631",
     "status": "completed"
    },
    "tags": []
   },
   "source": [
    "Dependent and Independent features"
   ]
  },
  {
   "cell_type": "code",
   "execution_count": 45,
   "id": "f8268f85",
   "metadata": {
    "execution": {
     "iopub.execute_input": "2023-05-07T14:03:18.447476Z",
     "iopub.status.busy": "2023-05-07T14:03:18.447054Z",
     "iopub.status.idle": "2023-05-07T14:03:18.454400Z",
     "shell.execute_reply": "2023-05-07T14:03:18.453020Z"
    },
    "papermill": {
     "duration": 0.050706,
     "end_time": "2023-05-07T14:03:18.457236",
     "exception": false,
     "start_time": "2023-05-07T14:03:18.406530",
     "status": "completed"
    },
    "tags": []
   },
   "outputs": [],
   "source": [
    "X = new_df.iloc[:,:-1]\n",
    "y = new_df.iloc[:,-1]"
   ]
  },
  {
   "cell_type": "markdown",
   "id": "c0b003a9",
   "metadata": {
    "papermill": {
     "duration": 0.037389,
     "end_time": "2023-05-07T14:03:18.532248",
     "exception": false,
     "start_time": "2023-05-07T14:03:18.494859",
     "status": "completed"
    },
    "tags": []
   },
   "source": [
    "Train test split"
   ]
  },
  {
   "cell_type": "code",
   "execution_count": 46,
   "id": "30e0850b",
   "metadata": {
    "execution": {
     "iopub.execute_input": "2023-05-07T14:03:18.613976Z",
     "iopub.status.busy": "2023-05-07T14:03:18.613417Z",
     "iopub.status.idle": "2023-05-07T14:03:18.627854Z",
     "shell.execute_reply": "2023-05-07T14:03:18.626893Z"
    },
    "papermill": {
     "duration": 0.060758,
     "end_time": "2023-05-07T14:03:18.630741",
     "exception": false,
     "start_time": "2023-05-07T14:03:18.569983",
     "status": "completed"
    },
    "tags": []
   },
   "outputs": [],
   "source": [
    "from sklearn.model_selection import train_test_split\n",
    "X_train,X_test,y_train,y_test = train_test_split(X,y,random_state=7,test_size=0.33)"
   ]
  },
  {
   "cell_type": "code",
   "execution_count": 47,
   "id": "6b77fb99",
   "metadata": {
    "execution": {
     "iopub.execute_input": "2023-05-07T14:03:18.710770Z",
     "iopub.status.busy": "2023-05-07T14:03:18.710365Z",
     "iopub.status.idle": "2023-05-07T14:03:18.717050Z",
     "shell.execute_reply": "2023-05-07T14:03:18.715613Z"
    },
    "papermill": {
     "duration": 0.048604,
     "end_time": "2023-05-07T14:03:18.719531",
     "exception": false,
     "start_time": "2023-05-07T14:03:18.670927",
     "status": "completed"
    },
    "tags": []
   },
   "outputs": [
    {
     "name": "stdout",
     "output_type": "stream",
     "text": [
      "(21815, 10)\n",
      "(21815,)\n",
      "(10746, 10)\n",
      "(10746,)\n"
     ]
    }
   ],
   "source": [
    "print(X_train.shape)\n",
    "print(y_train.shape)\n",
    "print(X_test.shape)\n",
    "print(y_test.shape)"
   ]
  },
  {
   "cell_type": "markdown",
   "id": "e3eac67f",
   "metadata": {
    "papermill": {
     "duration": 0.039093,
     "end_time": "2023-05-07T14:03:18.797544",
     "exception": false,
     "start_time": "2023-05-07T14:03:18.758451",
     "status": "completed"
    },
    "tags": []
   },
   "source": [
    "scaling data"
   ]
  },
  {
   "cell_type": "code",
   "execution_count": 48,
   "id": "5fdaca00",
   "metadata": {
    "execution": {
     "iopub.execute_input": "2023-05-07T14:03:18.879238Z",
     "iopub.status.busy": "2023-05-07T14:03:18.878320Z",
     "iopub.status.idle": "2023-05-07T14:03:18.891279Z",
     "shell.execute_reply": "2023-05-07T14:03:18.889835Z"
    },
    "papermill": {
     "duration": 0.057074,
     "end_time": "2023-05-07T14:03:18.894165",
     "exception": false,
     "start_time": "2023-05-07T14:03:18.837091",
     "status": "completed"
    },
    "tags": []
   },
   "outputs": [],
   "source": [
    "from sklearn.preprocessing import StandardScaler\n",
    "scaler = StandardScaler()\n",
    "X_train = scaler.fit_transform(X_train)"
   ]
  },
  {
   "cell_type": "code",
   "execution_count": 49,
   "id": "307fc9c7",
   "metadata": {
    "execution": {
     "iopub.execute_input": "2023-05-07T14:03:18.975087Z",
     "iopub.status.busy": "2023-05-07T14:03:18.974346Z",
     "iopub.status.idle": "2023-05-07T14:03:18.981374Z",
     "shell.execute_reply": "2023-05-07T14:03:18.980553Z"
    },
    "papermill": {
     "duration": 0.049851,
     "end_time": "2023-05-07T14:03:18.983543",
     "exception": false,
     "start_time": "2023-05-07T14:03:18.933692",
     "status": "completed"
    },
    "tags": []
   },
   "outputs": [],
   "source": [
    "X_test = scaler.transform(X_test)"
   ]
  },
  {
   "cell_type": "markdown",
   "id": "38c91df5",
   "metadata": {
    "papermill": {
     "duration": 0.038442,
     "end_time": "2023-05-07T14:03:19.061161",
     "exception": false,
     "start_time": "2023-05-07T14:03:19.022719",
     "status": "completed"
    },
    "tags": []
   },
   "source": [
    "## Logistic Regression"
   ]
  },
  {
   "cell_type": "code",
   "execution_count": 50,
   "id": "a8079f5c",
   "metadata": {
    "execution": {
     "iopub.execute_input": "2023-05-07T14:03:19.142549Z",
     "iopub.status.busy": "2023-05-07T14:03:19.141473Z",
     "iopub.status.idle": "2023-05-07T14:03:19.184483Z",
     "shell.execute_reply": "2023-05-07T14:03:19.182951Z"
    },
    "papermill": {
     "duration": 0.088694,
     "end_time": "2023-05-07T14:03:19.189171",
     "exception": false,
     "start_time": "2023-05-07T14:03:19.100477",
     "status": "completed"
    },
    "tags": []
   },
   "outputs": [
    {
     "data": {
      "text/plain": [
       "LogisticRegression()"
      ]
     },
     "execution_count": 50,
     "metadata": {},
     "output_type": "execute_result"
    }
   ],
   "source": [
    "model = LogisticRegression()\n",
    "model.fit(X_train,y_train)"
   ]
  },
  {
   "cell_type": "code",
   "execution_count": 51,
   "id": "c84f6032",
   "metadata": {
    "execution": {
     "iopub.execute_input": "2023-05-07T14:03:19.333979Z",
     "iopub.status.busy": "2023-05-07T14:03:19.333545Z",
     "iopub.status.idle": "2023-05-07T14:03:19.353379Z",
     "shell.execute_reply": "2023-05-07T14:03:19.351737Z"
    },
    "papermill": {
     "duration": 0.071843,
     "end_time": "2023-05-07T14:03:19.357724",
     "exception": false,
     "start_time": "2023-05-07T14:03:19.285881",
     "status": "completed"
    },
    "tags": []
   },
   "outputs": [
    {
     "data": {
      "text/plain": [
       "0.7610818244327298"
      ]
     },
     "execution_count": 51,
     "metadata": {},
     "output_type": "execute_result"
    }
   ],
   "source": [
    "model.score(X_train,y_train)"
   ]
  },
  {
   "cell_type": "code",
   "execution_count": 52,
   "id": "b9a91386",
   "metadata": {
    "execution": {
     "iopub.execute_input": "2023-05-07T14:03:19.498726Z",
     "iopub.status.busy": "2023-05-07T14:03:19.498314Z",
     "iopub.status.idle": "2023-05-07T14:03:19.507800Z",
     "shell.execute_reply": "2023-05-07T14:03:19.506061Z"
    },
    "papermill": {
     "duration": 0.057706,
     "end_time": "2023-05-07T14:03:19.512137",
     "exception": false,
     "start_time": "2023-05-07T14:03:19.454431",
     "status": "completed"
    },
    "tags": []
   },
   "outputs": [],
   "source": [
    "log_pred = model.predict(X_test)"
   ]
  },
  {
   "cell_type": "code",
   "execution_count": 53,
   "id": "1e9b8ed7",
   "metadata": {
    "execution": {
     "iopub.execute_input": "2023-05-07T14:03:19.660494Z",
     "iopub.status.busy": "2023-05-07T14:03:19.660066Z",
     "iopub.status.idle": "2023-05-07T14:03:19.670215Z",
     "shell.execute_reply": "2023-05-07T14:03:19.668899Z"
    },
    "papermill": {
     "duration": 0.062915,
     "end_time": "2023-05-07T14:03:19.672916",
     "exception": false,
     "start_time": "2023-05-07T14:03:19.610001",
     "status": "completed"
    },
    "tags": []
   },
   "outputs": [
    {
     "data": {
      "text/plain": [
       "0.7657733109994417"
      ]
     },
     "execution_count": 53,
     "metadata": {},
     "output_type": "execute_result"
    }
   ],
   "source": [
    "accuracy_score(y_test,log_pred)"
   ]
  },
  {
   "cell_type": "code",
   "execution_count": 54,
   "id": "46d788e6",
   "metadata": {
    "execution": {
     "iopub.execute_input": "2023-05-07T14:03:19.755507Z",
     "iopub.status.busy": "2023-05-07T14:03:19.754220Z",
     "iopub.status.idle": "2023-05-07T14:03:19.760362Z",
     "shell.execute_reply": "2023-05-07T14:03:19.759449Z"
    },
    "papermill": {
     "duration": 0.049744,
     "end_time": "2023-05-07T14:03:19.762901",
     "exception": false,
     "start_time": "2023-05-07T14:03:19.713157",
     "status": "completed"
    },
    "tags": []
   },
   "outputs": [],
   "source": [
    "params = dict(penalty=['l1','l2','elasticnet'],C=[1,0.1,0.01,10,100])"
   ]
  },
  {
   "cell_type": "code",
   "execution_count": 55,
   "id": "e01fcf88",
   "metadata": {
    "execution": {
     "iopub.execute_input": "2023-05-07T14:03:19.844562Z",
     "iopub.status.busy": "2023-05-07T14:03:19.843595Z",
     "iopub.status.idle": "2023-05-07T14:03:21.073265Z",
     "shell.execute_reply": "2023-05-07T14:03:21.069701Z"
    },
    "papermill": {
     "duration": 1.275317,
     "end_time": "2023-05-07T14:03:21.077569",
     "exception": false,
     "start_time": "2023-05-07T14:03:19.802252",
     "status": "completed"
    },
    "tags": []
   },
   "outputs": [
    {
     "name": "stderr",
     "output_type": "stream",
     "text": [
      "/opt/conda/lib/python3.7/site-packages/sklearn/model_selection/_validation.py:372: FitFailedWarning: \n",
      "30 fits failed out of a total of 50.\n",
      "The score on these train-test partitions for these parameters will be set to nan.\n",
      "If these failures are not expected, you can try to debug them by setting error_score='raise'.\n",
      "\n",
      "Below are more details about the failures:\n",
      "--------------------------------------------------------------------------------\n",
      "20 fits failed with the following error:\n",
      "Traceback (most recent call last):\n",
      "  File \"/opt/conda/lib/python3.7/site-packages/sklearn/model_selection/_validation.py\", line 680, in _fit_and_score\n",
      "    estimator.fit(X_train, y_train, **fit_params)\n",
      "  File \"/opt/conda/lib/python3.7/site-packages/sklearn/linear_model/_logistic.py\", line 1461, in fit\n",
      "    solver = _check_solver(self.solver, self.penalty, self.dual)\n",
      "  File \"/opt/conda/lib/python3.7/site-packages/sklearn/linear_model/_logistic.py\", line 449, in _check_solver\n",
      "    % (solver, penalty)\n",
      "ValueError: Solver lbfgs supports only 'l2' or 'none' penalties, got elasticnet penalty.\n",
      "\n",
      "--------------------------------------------------------------------------------\n",
      "10 fits failed with the following error:\n",
      "Traceback (most recent call last):\n",
      "  File \"/opt/conda/lib/python3.7/site-packages/sklearn/model_selection/_validation.py\", line 680, in _fit_and_score\n",
      "    estimator.fit(X_train, y_train, **fit_params)\n",
      "  File \"/opt/conda/lib/python3.7/site-packages/sklearn/linear_model/_logistic.py\", line 1461, in fit\n",
      "    solver = _check_solver(self.solver, self.penalty, self.dual)\n",
      "  File \"/opt/conda/lib/python3.7/site-packages/sklearn/linear_model/_logistic.py\", line 449, in _check_solver\n",
      "    % (solver, penalty)\n",
      "ValueError: Solver lbfgs supports only 'l2' or 'none' penalties, got l1 penalty.\n",
      "\n",
      "  warnings.warn(some_fits_failed_message, FitFailedWarning)\n",
      "/opt/conda/lib/python3.7/site-packages/sklearn/model_selection/_search.py:972: UserWarning: One or more of the test scores are non-finite: [       nan        nan 0.76131102        nan        nan        nan\n",
      " 0.76126518        nan 0.76131102 0.76126518]\n",
      "  category=UserWarning,\n"
     ]
    },
    {
     "data": {
      "text/plain": [
       "RandomizedSearchCV(estimator=LogisticRegression(),\n",
       "                   param_distributions={'C': [1, 0.1, 0.01, 10, 100],\n",
       "                                        'penalty': ['l1', 'l2', 'elasticnet']},\n",
       "                   random_state=7)"
      ]
     },
     "execution_count": 55,
     "metadata": {},
     "output_type": "execute_result"
    }
   ],
   "source": [
    "best_log_model = RandomizedSearchCV(model,params,random_state=7)\n",
    "best_log_model.fit(X_train,y_train)"
   ]
  },
  {
   "cell_type": "code",
   "execution_count": 56,
   "id": "9906edae",
   "metadata": {
    "execution": {
     "iopub.execute_input": "2023-05-07T14:03:21.221289Z",
     "iopub.status.busy": "2023-05-07T14:03:21.220840Z",
     "iopub.status.idle": "2023-05-07T14:03:21.227382Z",
     "shell.execute_reply": "2023-05-07T14:03:21.226576Z"
    },
    "papermill": {
     "duration": 0.05357,
     "end_time": "2023-05-07T14:03:21.229298",
     "exception": false,
     "start_time": "2023-05-07T14:03:21.175728",
     "status": "completed"
    },
    "tags": []
   },
   "outputs": [
    {
     "data": {
      "text/plain": [
       "{'penalty': 'l2', 'C': 10}"
      ]
     },
     "execution_count": 56,
     "metadata": {},
     "output_type": "execute_result"
    }
   ],
   "source": [
    "best_log_model.best_params_"
   ]
  },
  {
   "cell_type": "code",
   "execution_count": 57,
   "id": "beece80c",
   "metadata": {
    "execution": {
     "iopub.execute_input": "2023-05-07T14:03:21.310876Z",
     "iopub.status.busy": "2023-05-07T14:03:21.309986Z",
     "iopub.status.idle": "2023-05-07T14:03:21.315371Z",
     "shell.execute_reply": "2023-05-07T14:03:21.313999Z"
    },
    "papermill": {
     "duration": 0.049714,
     "end_time": "2023-05-07T14:03:21.318036",
     "exception": false,
     "start_time": "2023-05-07T14:03:21.268322",
     "status": "completed"
    },
    "tags": []
   },
   "outputs": [],
   "source": [
    "best_model = LogisticRegression(penalty='l2',C = 10)"
   ]
  },
  {
   "cell_type": "code",
   "execution_count": 58,
   "id": "d10298c2",
   "metadata": {
    "execution": {
     "iopub.execute_input": "2023-05-07T14:03:21.401652Z",
     "iopub.status.busy": "2023-05-07T14:03:21.401027Z",
     "iopub.status.idle": "2023-05-07T14:03:21.458566Z",
     "shell.execute_reply": "2023-05-07T14:03:21.457022Z"
    },
    "papermill": {
     "duration": 0.104894,
     "end_time": "2023-05-07T14:03:21.463153",
     "exception": false,
     "start_time": "2023-05-07T14:03:21.358259",
     "status": "completed"
    },
    "tags": []
   },
   "outputs": [
    {
     "data": {
      "text/plain": [
       "LogisticRegression(C=10)"
      ]
     },
     "execution_count": 58,
     "metadata": {},
     "output_type": "execute_result"
    }
   ],
   "source": [
    "best_model.fit(X_train,y_train)"
   ]
  },
  {
   "cell_type": "code",
   "execution_count": 59,
   "id": "d080db2f",
   "metadata": {
    "execution": {
     "iopub.execute_input": "2023-05-07T14:03:21.611552Z",
     "iopub.status.busy": "2023-05-07T14:03:21.611164Z",
     "iopub.status.idle": "2023-05-07T14:03:21.621063Z",
     "shell.execute_reply": "2023-05-07T14:03:21.619501Z"
    },
    "papermill": {
     "duration": 0.061995,
     "end_time": "2023-05-07T14:03:21.625583",
     "exception": false,
     "start_time": "2023-05-07T14:03:21.563588",
     "status": "completed"
    },
    "tags": []
   },
   "outputs": [],
   "source": [
    "best_pred = best_model.predict(X_test)"
   ]
  },
  {
   "cell_type": "code",
   "execution_count": 60,
   "id": "d8cb8d52",
   "metadata": {
    "execution": {
     "iopub.execute_input": "2023-05-07T14:03:21.776647Z",
     "iopub.status.busy": "2023-05-07T14:03:21.776255Z",
     "iopub.status.idle": "2023-05-07T14:03:21.785893Z",
     "shell.execute_reply": "2023-05-07T14:03:21.784884Z"
    },
    "papermill": {
     "duration": 0.060199,
     "end_time": "2023-05-07T14:03:21.788010",
     "exception": false,
     "start_time": "2023-05-07T14:03:21.727811",
     "status": "completed"
    },
    "tags": []
   },
   "outputs": [
    {
     "data": {
      "text/plain": [
       "0.7657733109994417"
      ]
     },
     "execution_count": 60,
     "metadata": {},
     "output_type": "execute_result"
    }
   ],
   "source": [
    "accuracy_score(y_test,best_pred)"
   ]
  },
  {
   "cell_type": "markdown",
   "id": "3bbe17e6",
   "metadata": {
    "papermill": {
     "duration": 0.040112,
     "end_time": "2023-05-07T14:03:21.868393",
     "exception": false,
     "start_time": "2023-05-07T14:03:21.828281",
     "status": "completed"
    },
    "tags": []
   },
   "source": [
    "# RandomForest Classifier"
   ]
  },
  {
   "cell_type": "code",
   "execution_count": 61,
   "id": "36e66f49",
   "metadata": {
    "execution": {
     "iopub.execute_input": "2023-05-07T14:03:21.950196Z",
     "iopub.status.busy": "2023-05-07T14:03:21.949393Z",
     "iopub.status.idle": "2023-05-07T14:03:21.954632Z",
     "shell.execute_reply": "2023-05-07T14:03:21.953751Z"
    },
    "papermill": {
     "duration": 0.04885,
     "end_time": "2023-05-07T14:03:21.957106",
     "exception": false,
     "start_time": "2023-05-07T14:03:21.908256",
     "status": "completed"
    },
    "tags": []
   },
   "outputs": [],
   "source": [
    "model = RandomForestClassifier()"
   ]
  },
  {
   "cell_type": "code",
   "execution_count": 62,
   "id": "0855a626",
   "metadata": {
    "execution": {
     "iopub.execute_input": "2023-05-07T14:03:22.038658Z",
     "iopub.status.busy": "2023-05-07T14:03:22.037885Z",
     "iopub.status.idle": "2023-05-07T14:03:24.350019Z",
     "shell.execute_reply": "2023-05-07T14:03:24.347926Z"
    },
    "papermill": {
     "duration": 2.357557,
     "end_time": "2023-05-07T14:03:24.353967",
     "exception": false,
     "start_time": "2023-05-07T14:03:21.996410",
     "status": "completed"
    },
    "tags": []
   },
   "outputs": [
    {
     "data": {
      "text/plain": [
       "RandomForestClassifier()"
      ]
     },
     "execution_count": 62,
     "metadata": {},
     "output_type": "execute_result"
    }
   ],
   "source": [
    "model.fit(X_train,y_train)"
   ]
  },
  {
   "cell_type": "code",
   "execution_count": 63,
   "id": "ea5b0107",
   "metadata": {
    "execution": {
     "iopub.execute_input": "2023-05-07T14:03:24.447474Z",
     "iopub.status.busy": "2023-05-07T14:03:24.447088Z",
     "iopub.status.idle": "2023-05-07T14:03:24.948943Z",
     "shell.execute_reply": "2023-05-07T14:03:24.947708Z"
    },
    "papermill": {
     "duration": 0.549322,
     "end_time": "2023-05-07T14:03:24.951497",
     "exception": false,
     "start_time": "2023-05-07T14:03:24.402175",
     "status": "completed"
    },
    "tags": []
   },
   "outputs": [
    {
     "data": {
      "text/plain": [
       "0.9735961494384597"
      ]
     },
     "execution_count": 63,
     "metadata": {},
     "output_type": "execute_result"
    }
   ],
   "source": [
    "model.score(X_train,y_train)"
   ]
  },
  {
   "cell_type": "code",
   "execution_count": 64,
   "id": "d85f3c0f",
   "metadata": {
    "execution": {
     "iopub.execute_input": "2023-05-07T14:03:25.033443Z",
     "iopub.status.busy": "2023-05-07T14:03:25.032933Z",
     "iopub.status.idle": "2023-05-07T14:03:25.296474Z",
     "shell.execute_reply": "2023-05-07T14:03:25.295293Z"
    },
    "papermill": {
     "duration": 0.30783,
     "end_time": "2023-05-07T14:03:25.299437",
     "exception": false,
     "start_time": "2023-05-07T14:03:24.991607",
     "status": "completed"
    },
    "tags": []
   },
   "outputs": [],
   "source": [
    "model_pred = model.predict(X_test)"
   ]
  },
  {
   "cell_type": "code",
   "execution_count": 65,
   "id": "3f0e1163",
   "metadata": {
    "execution": {
     "iopub.execute_input": "2023-05-07T14:03:25.381499Z",
     "iopub.status.busy": "2023-05-07T14:03:25.381115Z",
     "iopub.status.idle": "2023-05-07T14:03:25.391200Z",
     "shell.execute_reply": "2023-05-07T14:03:25.389803Z"
    },
    "papermill": {
     "duration": 0.053532,
     "end_time": "2023-05-07T14:03:25.393723",
     "exception": false,
     "start_time": "2023-05-07T14:03:25.340191",
     "status": "completed"
    },
    "tags": []
   },
   "outputs": [
    {
     "data": {
      "text/plain": [
       "0.8230969663130467"
      ]
     },
     "execution_count": 65,
     "metadata": {},
     "output_type": "execute_result"
    }
   ],
   "source": [
    "accuracy_score(y_test,model_pred)"
   ]
  },
  {
   "cell_type": "code",
   "execution_count": 66,
   "id": "7b8b6368",
   "metadata": {
    "execution": {
     "iopub.execute_input": "2023-05-07T14:03:25.478048Z",
     "iopub.status.busy": "2023-05-07T14:03:25.477546Z",
     "iopub.status.idle": "2023-05-07T14:03:25.483808Z",
     "shell.execute_reply": "2023-05-07T14:03:25.482317Z"
    },
    "papermill": {
     "duration": 0.052282,
     "end_time": "2023-05-07T14:03:25.486386",
     "exception": false,
     "start_time": "2023-05-07T14:03:25.434104",
     "status": "completed"
    },
    "tags": []
   },
   "outputs": [],
   "source": [
    "params = dict(criterion=['gini', 'entropy'],max_depth=[1,10,5],min_samples_split=[1,10])"
   ]
  },
  {
   "cell_type": "code",
   "execution_count": 67,
   "id": "36084a9d",
   "metadata": {
    "execution": {
     "iopub.execute_input": "2023-05-07T14:03:25.572140Z",
     "iopub.status.busy": "2023-05-07T14:03:25.571309Z",
     "iopub.status.idle": "2023-05-07T14:03:49.917102Z",
     "shell.execute_reply": "2023-05-07T14:03:49.915606Z"
    },
    "papermill": {
     "duration": 24.391387,
     "end_time": "2023-05-07T14:03:49.919915",
     "exception": false,
     "start_time": "2023-05-07T14:03:25.528528",
     "status": "completed"
    },
    "tags": []
   },
   "outputs": [
    {
     "name": "stderr",
     "output_type": "stream",
     "text": [
      "/opt/conda/lib/python3.7/site-packages/sklearn/model_selection/_validation.py:372: FitFailedWarning: \n",
      "25 fits failed out of a total of 50.\n",
      "The score on these train-test partitions for these parameters will be set to nan.\n",
      "If these failures are not expected, you can try to debug them by setting error_score='raise'.\n",
      "\n",
      "Below are more details about the failures:\n",
      "--------------------------------------------------------------------------------\n",
      "25 fits failed with the following error:\n",
      "Traceback (most recent call last):\n",
      "  File \"/opt/conda/lib/python3.7/site-packages/sklearn/model_selection/_validation.py\", line 680, in _fit_and_score\n",
      "    estimator.fit(X_train, y_train, **fit_params)\n",
      "  File \"/opt/conda/lib/python3.7/site-packages/sklearn/ensemble/_forest.py\", line 467, in fit\n",
      "    for i, t in enumerate(trees)\n",
      "  File \"/opt/conda/lib/python3.7/site-packages/joblib/parallel.py\", line 1041, in __call__\n",
      "    if self.dispatch_one_batch(iterator):\n",
      "  File \"/opt/conda/lib/python3.7/site-packages/joblib/parallel.py\", line 859, in dispatch_one_batch\n",
      "    self._dispatch(tasks)\n",
      "  File \"/opt/conda/lib/python3.7/site-packages/joblib/parallel.py\", line 777, in _dispatch\n",
      "    job = self._backend.apply_async(batch, callback=cb)\n",
      "  File \"/opt/conda/lib/python3.7/site-packages/joblib/_parallel_backends.py\", line 208, in apply_async\n",
      "    result = ImmediateResult(func)\n",
      "  File \"/opt/conda/lib/python3.7/site-packages/joblib/_parallel_backends.py\", line 572, in __init__\n",
      "    self.results = batch()\n",
      "  File \"/opt/conda/lib/python3.7/site-packages/joblib/parallel.py\", line 263, in __call__\n",
      "    for func, args, kwargs in self.items]\n",
      "  File \"/opt/conda/lib/python3.7/site-packages/joblib/parallel.py\", line 263, in <listcomp>\n",
      "    for func, args, kwargs in self.items]\n",
      "  File \"/opt/conda/lib/python3.7/site-packages/sklearn/utils/fixes.py\", line 216, in __call__\n",
      "    return self.function(*args, **kwargs)\n",
      "  File \"/opt/conda/lib/python3.7/site-packages/sklearn/ensemble/_forest.py\", line 185, in _parallel_build_trees\n",
      "    tree.fit(X, y, sample_weight=curr_sample_weight, check_input=False)\n",
      "  File \"/opt/conda/lib/python3.7/site-packages/sklearn/tree/_classes.py\", line 942, in fit\n",
      "    X_idx_sorted=X_idx_sorted,\n",
      "  File \"/opt/conda/lib/python3.7/site-packages/sklearn/tree/_classes.py\", line 254, in fit\n",
      "    % self.min_samples_split\n",
      "ValueError: min_samples_split must be an integer greater than 1 or a float in (0.0, 1.0]; got the integer 1\n",
      "\n",
      "  warnings.warn(some_fits_failed_message, FitFailedWarning)\n",
      "/opt/conda/lib/python3.7/site-packages/sklearn/model_selection/_search.py:972: UserWarning: One or more of the test scores are non-finite: [0.75869814        nan        nan 0.81219344        nan 0.75869814\n",
      " 0.81223928        nan 0.83424249        nan]\n",
      "  category=UserWarning,\n"
     ]
    },
    {
     "data": {
      "text/plain": [
       "RandomizedSearchCV(estimator=RandomForestClassifier(),\n",
       "                   param_distributions={'criterion': ['gini', 'entropy'],\n",
       "                                        'max_depth': [1, 10, 5],\n",
       "                                        'min_samples_split': [1, 10]},\n",
       "                   random_state=7)"
      ]
     },
     "execution_count": 67,
     "metadata": {},
     "output_type": "execute_result"
    }
   ],
   "source": [
    "best_ran_model = RandomizedSearchCV(model,params,random_state=7)\n",
    "best_ran_model.fit(X_train,y_train)"
   ]
  },
  {
   "cell_type": "code",
   "execution_count": 68,
   "id": "38e56302",
   "metadata": {
    "execution": {
     "iopub.execute_input": "2023-05-07T14:03:50.006983Z",
     "iopub.status.busy": "2023-05-07T14:03:50.006161Z",
     "iopub.status.idle": "2023-05-07T14:03:50.013263Z",
     "shell.execute_reply": "2023-05-07T14:03:50.012366Z"
    },
    "papermill": {
     "duration": 0.055039,
     "end_time": "2023-05-07T14:03:50.016188",
     "exception": false,
     "start_time": "2023-05-07T14:03:49.961149",
     "status": "completed"
    },
    "tags": []
   },
   "outputs": [
    {
     "data": {
      "text/plain": [
       "{'min_samples_split': 10, 'max_depth': 10, 'criterion': 'gini'}"
      ]
     },
     "execution_count": 68,
     "metadata": {},
     "output_type": "execute_result"
    }
   ],
   "source": [
    "best_ran_model.best_params_"
   ]
  },
  {
   "cell_type": "code",
   "execution_count": 69,
   "id": "5ca7f36a",
   "metadata": {
    "execution": {
     "iopub.execute_input": "2023-05-07T14:03:50.105229Z",
     "iopub.status.busy": "2023-05-07T14:03:50.104713Z",
     "iopub.status.idle": "2023-05-07T14:03:51.753491Z",
     "shell.execute_reply": "2023-05-07T14:03:51.751673Z"
    },
    "papermill": {
     "duration": 1.696086,
     "end_time": "2023-05-07T14:03:51.756584",
     "exception": false,
     "start_time": "2023-05-07T14:03:50.060498",
     "status": "completed"
    },
    "tags": []
   },
   "outputs": [],
   "source": [
    "best_model = RandomForestClassifier(min_samples_split= 5, max_depth= 10, criterion= 'entropy').fit(X_train,y_train)"
   ]
  },
  {
   "cell_type": "code",
   "execution_count": 70,
   "id": "610517d5",
   "metadata": {
    "execution": {
     "iopub.execute_input": "2023-05-07T14:03:51.842619Z",
     "iopub.status.busy": "2023-05-07T14:03:51.842109Z",
     "iopub.status.idle": "2023-05-07T14:03:52.143411Z",
     "shell.execute_reply": "2023-05-07T14:03:52.141929Z"
    },
    "papermill": {
     "duration": 0.34747,
     "end_time": "2023-05-07T14:03:52.146189",
     "exception": false,
     "start_time": "2023-05-07T14:03:51.798719",
     "status": "completed"
    },
    "tags": []
   },
   "outputs": [
    {
     "data": {
      "text/plain": [
       "0.8489112995645198"
      ]
     },
     "execution_count": 70,
     "metadata": {},
     "output_type": "execute_result"
    }
   ],
   "source": [
    "best_model.score(X_train,y_train)"
   ]
  },
  {
   "cell_type": "code",
   "execution_count": 71,
   "id": "0cc85fd4",
   "metadata": {
    "execution": {
     "iopub.execute_input": "2023-05-07T14:03:52.233719Z",
     "iopub.status.busy": "2023-05-07T14:03:52.233223Z",
     "iopub.status.idle": "2023-05-07T14:03:52.393917Z",
     "shell.execute_reply": "2023-05-07T14:03:52.392144Z"
    },
    "papermill": {
     "duration": 0.208275,
     "end_time": "2023-05-07T14:03:52.396685",
     "exception": false,
     "start_time": "2023-05-07T14:03:52.188410",
     "status": "completed"
    },
    "tags": []
   },
   "outputs": [],
   "source": [
    "best_pred = best_model.predict(X_test)"
   ]
  },
  {
   "cell_type": "code",
   "execution_count": 72,
   "id": "51e64bdc",
   "metadata": {
    "execution": {
     "iopub.execute_input": "2023-05-07T14:03:52.481104Z",
     "iopub.status.busy": "2023-05-07T14:03:52.480572Z",
     "iopub.status.idle": "2023-05-07T14:03:52.491097Z",
     "shell.execute_reply": "2023-05-07T14:03:52.489711Z"
    },
    "papermill": {
     "duration": 0.056324,
     "end_time": "2023-05-07T14:03:52.493575",
     "exception": false,
     "start_time": "2023-05-07T14:03:52.437251",
     "status": "completed"
    },
    "tags": []
   },
   "outputs": [
    {
     "data": {
      "text/plain": [
       "0.8354736646193932"
      ]
     },
     "execution_count": 72,
     "metadata": {},
     "output_type": "execute_result"
    }
   ],
   "source": [
    "accuracy_score(y_test,best_pred)"
   ]
  },
  {
   "cell_type": "markdown",
   "id": "73d46c97",
   "metadata": {
    "papermill": {
     "duration": 0.040699,
     "end_time": "2023-05-07T14:03:52.575362",
     "exception": false,
     "start_time": "2023-05-07T14:03:52.534663",
     "status": "completed"
    },
    "tags": []
   },
   "source": [
    "# Naive Bayes"
   ]
  },
  {
   "cell_type": "code",
   "execution_count": 73,
   "id": "a7247623",
   "metadata": {
    "execution": {
     "iopub.execute_input": "2023-05-07T14:03:52.661285Z",
     "iopub.status.busy": "2023-05-07T14:03:52.660747Z",
     "iopub.status.idle": "2023-05-07T14:03:52.676120Z",
     "shell.execute_reply": "2023-05-07T14:03:52.674785Z"
    },
    "papermill": {
     "duration": 0.062785,
     "end_time": "2023-05-07T14:03:52.679775",
     "exception": false,
     "start_time": "2023-05-07T14:03:52.616990",
     "status": "completed"
    },
    "tags": []
   },
   "outputs": [],
   "source": [
    "model  = GaussianNB().fit(X_train,y_train)"
   ]
  },
  {
   "cell_type": "code",
   "execution_count": 74,
   "id": "db3e14ff",
   "metadata": {
    "execution": {
     "iopub.execute_input": "2023-05-07T14:03:52.767606Z",
     "iopub.status.busy": "2023-05-07T14:03:52.767146Z",
     "iopub.status.idle": "2023-05-07T14:03:52.784414Z",
     "shell.execute_reply": "2023-05-07T14:03:52.782986Z"
    },
    "papermill": {
     "duration": 0.064636,
     "end_time": "2023-05-07T14:03:52.787253",
     "exception": false,
     "start_time": "2023-05-07T14:03:52.722617",
     "status": "completed"
    },
    "tags": []
   },
   "outputs": [
    {
     "data": {
      "text/plain": [
       "0.7593857437542975"
      ]
     },
     "execution_count": 74,
     "metadata": {},
     "output_type": "execute_result"
    }
   ],
   "source": [
    "model.score(X_train,y_train)"
   ]
  },
  {
   "cell_type": "code",
   "execution_count": 75,
   "id": "823a7025",
   "metadata": {
    "execution": {
     "iopub.execute_input": "2023-05-07T14:03:52.874980Z",
     "iopub.status.busy": "2023-05-07T14:03:52.874552Z",
     "iopub.status.idle": "2023-05-07T14:03:52.882544Z",
     "shell.execute_reply": "2023-05-07T14:03:52.881630Z"
    },
    "papermill": {
     "duration": 0.055568,
     "end_time": "2023-05-07T14:03:52.885320",
     "exception": false,
     "start_time": "2023-05-07T14:03:52.829752",
     "status": "completed"
    },
    "tags": []
   },
   "outputs": [],
   "source": [
    "model_pred = model.predict(X_test)"
   ]
  },
  {
   "cell_type": "code",
   "execution_count": 76,
   "id": "f17c592b",
   "metadata": {
    "execution": {
     "iopub.execute_input": "2023-05-07T14:03:52.970995Z",
     "iopub.status.busy": "2023-05-07T14:03:52.970511Z",
     "iopub.status.idle": "2023-05-07T14:03:52.979958Z",
     "shell.execute_reply": "2023-05-07T14:03:52.979025Z"
    },
    "papermill": {
     "duration": 0.055325,
     "end_time": "2023-05-07T14:03:52.982321",
     "exception": false,
     "start_time": "2023-05-07T14:03:52.926996",
     "status": "completed"
    },
    "tags": []
   },
   "outputs": [
    {
     "data": {
      "text/plain": [
       "0.7566536385631863"
      ]
     },
     "execution_count": 76,
     "metadata": {},
     "output_type": "execute_result"
    }
   ],
   "source": [
    "accuracy_score(y_test,model_pred)"
   ]
  },
  {
   "cell_type": "markdown",
   "id": "a5d87b6f",
   "metadata": {
    "papermill": {
     "duration": 0.042797,
     "end_time": "2023-05-07T14:03:53.068251",
     "exception": false,
     "start_time": "2023-05-07T14:03:53.025454",
     "status": "completed"
    },
    "tags": []
   },
   "source": [
    "# SVC"
   ]
  },
  {
   "cell_type": "code",
   "execution_count": 77,
   "id": "867cd8f0",
   "metadata": {
    "execution": {
     "iopub.execute_input": "2023-05-07T14:03:53.156993Z",
     "iopub.status.busy": "2023-05-07T14:03:53.156492Z",
     "iopub.status.idle": "2023-05-07T14:04:06.995636Z",
     "shell.execute_reply": "2023-05-07T14:04:06.993953Z"
    },
    "papermill": {
     "duration": 13.886957,
     "end_time": "2023-05-07T14:04:06.998840",
     "exception": false,
     "start_time": "2023-05-07T14:03:53.111883",
     "status": "completed"
    },
    "tags": []
   },
   "outputs": [],
   "source": [
    "svc = SVC().fit(X_train,y_train)"
   ]
  },
  {
   "cell_type": "code",
   "execution_count": 78,
   "id": "479a3608",
   "metadata": {
    "execution": {
     "iopub.execute_input": "2023-05-07T14:04:07.088809Z",
     "iopub.status.busy": "2023-05-07T14:04:07.088321Z",
     "iopub.status.idle": "2023-05-07T14:04:19.755584Z",
     "shell.execute_reply": "2023-05-07T14:04:19.754134Z"
    },
    "papermill": {
     "duration": 12.714562,
     "end_time": "2023-05-07T14:04:19.758028",
     "exception": false,
     "start_time": "2023-05-07T14:04:07.043466",
     "status": "completed"
    },
    "tags": []
   },
   "outputs": [
    {
     "data": {
      "text/plain": [
       "0.8138895255558102"
      ]
     },
     "execution_count": 78,
     "metadata": {},
     "output_type": "execute_result"
    }
   ],
   "source": [
    "svc.score(X_train,y_train)"
   ]
  },
  {
   "cell_type": "code",
   "execution_count": 79,
   "id": "689fb78e",
   "metadata": {
    "execution": {
     "iopub.execute_input": "2023-05-07T14:04:19.846846Z",
     "iopub.status.busy": "2023-05-07T14:04:19.845973Z",
     "iopub.status.idle": "2023-05-07T14:04:26.053815Z",
     "shell.execute_reply": "2023-05-07T14:04:26.052658Z"
    },
    "papermill": {
     "duration": 6.256052,
     "end_time": "2023-05-07T14:04:26.057375",
     "exception": false,
     "start_time": "2023-05-07T14:04:19.801323",
     "status": "completed"
    },
    "tags": []
   },
   "outputs": [
    {
     "data": {
      "text/plain": [
       "0.8074632421366089"
      ]
     },
     "execution_count": 79,
     "metadata": {},
     "output_type": "execute_result"
    }
   ],
   "source": [
    "svc_pred = svc.predict(X_test)\n",
    "accuracy_score(y_test,svc_pred)"
   ]
  },
  {
   "cell_type": "markdown",
   "id": "3a3a07b2",
   "metadata": {
    "papermill": {
     "duration": 0.045678,
     "end_time": "2023-05-07T14:04:26.147570",
     "exception": false,
     "start_time": "2023-05-07T14:04:26.101892",
     "status": "completed"
    },
    "tags": []
   },
   "source": [
    "Hyperparameter Tunning"
   ]
  },
  {
   "cell_type": "code",
   "execution_count": 80,
   "id": "c93dff4c",
   "metadata": {
    "execution": {
     "iopub.execute_input": "2023-05-07T14:04:26.252567Z",
     "iopub.status.busy": "2023-05-07T14:04:26.251504Z",
     "iopub.status.idle": "2023-05-07T14:04:26.259186Z",
     "shell.execute_reply": "2023-05-07T14:04:26.257620Z"
    },
    "papermill": {
     "duration": 0.073011,
     "end_time": "2023-05-07T14:04:26.263874",
     "exception": false,
     "start_time": "2023-05-07T14:04:26.190863",
     "status": "completed"
    },
    "tags": []
   },
   "outputs": [],
   "source": [
    "params = dict(kernel=['linear', 'poly'],C=[1,0.1,0.01])"
   ]
  },
  {
   "cell_type": "code",
   "execution_count": 81,
   "id": "3fbcfc91",
   "metadata": {
    "execution": {
     "iopub.execute_input": "2023-05-07T14:04:26.366606Z",
     "iopub.status.busy": "2023-05-07T14:04:26.365991Z",
     "iopub.status.idle": "2023-05-07T14:04:26.371150Z",
     "shell.execute_reply": "2023-05-07T14:04:26.370215Z"
    },
    "papermill": {
     "duration": 0.051355,
     "end_time": "2023-05-07T14:04:26.373419",
     "exception": false,
     "start_time": "2023-05-07T14:04:26.322064",
     "status": "completed"
    },
    "tags": []
   },
   "outputs": [],
   "source": [
    "Grid_model = GridSearchCV(svc,params,n_jobs=-1)"
   ]
  },
  {
   "cell_type": "code",
   "execution_count": 82,
   "id": "9d3ae218",
   "metadata": {
    "execution": {
     "iopub.execute_input": "2023-05-07T14:04:26.461233Z",
     "iopub.status.busy": "2023-05-07T14:04:26.460451Z",
     "iopub.status.idle": "2023-05-07T14:06:59.137592Z",
     "shell.execute_reply": "2023-05-07T14:06:59.136101Z"
    },
    "papermill": {
     "duration": 152.768744,
     "end_time": "2023-05-07T14:06:59.184136",
     "exception": false,
     "start_time": "2023-05-07T14:04:26.415392",
     "status": "completed"
    },
    "tags": []
   },
   "outputs": [
    {
     "data": {
      "text/plain": [
       "GridSearchCV(estimator=SVC(), n_jobs=-1,\n",
       "             param_grid={'C': [1, 0.1, 0.01], 'kernel': ['linear', 'poly']})"
      ]
     },
     "execution_count": 82,
     "metadata": {},
     "output_type": "execute_result"
    }
   ],
   "source": [
    "Grid_model.fit(X_train,y_train)"
   ]
  },
  {
   "cell_type": "code",
   "execution_count": 83,
   "id": "9f28e8b7",
   "metadata": {
    "execution": {
     "iopub.execute_input": "2023-05-07T14:06:59.277113Z",
     "iopub.status.busy": "2023-05-07T14:06:59.275301Z",
     "iopub.status.idle": "2023-05-07T14:06:59.284905Z",
     "shell.execute_reply": "2023-05-07T14:06:59.283555Z"
    },
    "papermill": {
     "duration": 0.058718,
     "end_time": "2023-05-07T14:06:59.287281",
     "exception": false,
     "start_time": "2023-05-07T14:06:59.228563",
     "status": "completed"
    },
    "tags": []
   },
   "outputs": [
    {
     "data": {
      "text/plain": [
       "{'C': 1, 'kernel': 'poly'}"
      ]
     },
     "execution_count": 83,
     "metadata": {},
     "output_type": "execute_result"
    }
   ],
   "source": [
    "Grid_model.best_params_"
   ]
  },
  {
   "cell_type": "code",
   "execution_count": 84,
   "id": "afacd122",
   "metadata": {
    "execution": {
     "iopub.execute_input": "2023-05-07T14:06:59.377661Z",
     "iopub.status.busy": "2023-05-07T14:06:59.376861Z",
     "iopub.status.idle": "2023-05-07T14:07:16.857097Z",
     "shell.execute_reply": "2023-05-07T14:07:16.855684Z"
    },
    "papermill": {
     "duration": 17.529445,
     "end_time": "2023-05-07T14:07:16.860493",
     "exception": false,
     "start_time": "2023-05-07T14:06:59.331048",
     "status": "completed"
    },
    "tags": []
   },
   "outputs": [],
   "source": [
    "best_model = SVC(kernel='poly',gamma='scale',C=1).fit(X_train,y_train)"
   ]
  },
  {
   "cell_type": "code",
   "execution_count": 85,
   "id": "61fbf4ac",
   "metadata": {
    "execution": {
     "iopub.execute_input": "2023-05-07T14:07:16.951773Z",
     "iopub.status.busy": "2023-05-07T14:07:16.951331Z",
     "iopub.status.idle": "2023-05-07T14:07:24.592984Z",
     "shell.execute_reply": "2023-05-07T14:07:24.591463Z"
    },
    "papermill": {
     "duration": 7.69084,
     "end_time": "2023-05-07T14:07:24.595538",
     "exception": false,
     "start_time": "2023-05-07T14:07:16.904698",
     "status": "completed"
    },
    "tags": []
   },
   "outputs": [
    {
     "data": {
      "text/plain": [
       "0.768141187256475"
      ]
     },
     "execution_count": 85,
     "metadata": {},
     "output_type": "execute_result"
    }
   ],
   "source": [
    "best_model.score(X_train,y_train)"
   ]
  },
  {
   "cell_type": "code",
   "execution_count": 86,
   "id": "457542dd",
   "metadata": {
    "execution": {
     "iopub.execute_input": "2023-05-07T14:07:24.692002Z",
     "iopub.status.busy": "2023-05-07T14:07:24.690339Z",
     "iopub.status.idle": "2023-05-07T14:07:28.399561Z",
     "shell.execute_reply": "2023-05-07T14:07:28.398145Z"
    },
    "papermill": {
     "duration": 3.762045,
     "end_time": "2023-05-07T14:07:28.402683",
     "exception": false,
     "start_time": "2023-05-07T14:07:24.640638",
     "status": "completed"
    },
    "tags": []
   },
   "outputs": [],
   "source": [
    "best_pred = best_model.predict(X_test)"
   ]
  },
  {
   "cell_type": "code",
   "execution_count": 87,
   "id": "215e64fb",
   "metadata": {
    "execution": {
     "iopub.execute_input": "2023-05-07T14:07:28.493728Z",
     "iopub.status.busy": "2023-05-07T14:07:28.493198Z",
     "iopub.status.idle": "2023-05-07T14:07:28.505132Z",
     "shell.execute_reply": "2023-05-07T14:07:28.503667Z"
    },
    "papermill": {
     "duration": 0.060922,
     "end_time": "2023-05-07T14:07:28.507920",
     "exception": false,
     "start_time": "2023-05-07T14:07:28.446998",
     "status": "completed"
    },
    "tags": []
   },
   "outputs": [
    {
     "data": {
      "text/plain": [
       "0.7685650474595198"
      ]
     },
     "execution_count": 87,
     "metadata": {},
     "output_type": "execute_result"
    }
   ],
   "source": [
    "accuracy_score(y_test,best_pred)"
   ]
  },
  {
   "cell_type": "markdown",
   "id": "4e0b9756",
   "metadata": {
    "papermill": {
     "duration": 0.044969,
     "end_time": "2023-05-07T14:07:28.598290",
     "exception": false,
     "start_time": "2023-05-07T14:07:28.553321",
     "status": "completed"
    },
    "tags": []
   },
   "source": [
    "# Conclusion"
   ]
  },
  {
   "cell_type": "markdown",
   "id": "37736fba",
   "metadata": {
    "papermill": {
     "duration": 0.044426,
     "end_time": "2023-05-07T14:07:28.687084",
     "exception": false,
     "start_time": "2023-05-07T14:07:28.642658",
     "status": "completed"
    },
    "tags": []
   },
   "source": [
    "- we got best accuracy with random forest model so we use that model in our pipeline."
   ]
  }
 ],
 "metadata": {
  "kernelspec": {
   "display_name": "Python 3 (ipykernel)",
   "language": "python",
   "name": "python3"
  },
  "language_info": {
   "codemirror_mode": {
    "name": "ipython",
    "version": 3
   },
   "file_extension": ".py",
   "mimetype": "text/x-python",
   "name": "python",
   "nbconvert_exporter": "python",
   "pygments_lexer": "ipython3",
   "version": "3.9.12"
  },
  "papermill": {
   "default_parameters": {},
   "duration": 282.356401,
   "end_time": "2023-05-07T14:07:31.356768",
   "environment_variables": {},
   "exception": null,
   "input_path": "__notebook__.ipynb",
   "output_path": "__notebook__.ipynb",
   "parameters": {},
   "start_time": "2023-05-07T14:02:49.000367",
   "version": "2.3.4"
  }
 },
 "nbformat": 4,
 "nbformat_minor": 5
}
